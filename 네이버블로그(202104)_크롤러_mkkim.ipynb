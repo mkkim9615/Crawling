{
 "cells": [
  {
   "cell_type": "code",
   "execution_count": 12,
   "metadata": {},
   "outputs": [],
   "source": [
    "# 네이버에서 검색어 입력받아 검색 한 후 블로그 메뉴를 선택하고\n",
    "# 오른쪽에 있는 검색옵션 버튼을 눌러서\n",
    "# 정렬 방식과 기간을 입력하기\n",
    "\n",
    "# Step 0. 필요한 모듈과 라이브러리를 로딩\n",
    "import sys # 시스템\n",
    "import os  # 시스템\n",
    "\n",
    "import pandas as pd  # 판다스 : 데이터분석 라이브러리\n",
    "import numpy as np   # 넘파이 : 숫자, 행렬 데이터 라이브러리\n",
    "\n",
    "from bs4 import BeautifulSoup    # html 데이터를 전처리\n",
    "from selenium import webdriver   # 웹 브라우저 자동화\n",
    "import time    # 네이버 서버와 통신할 때 중간중간 시간 지연. 보통은 1초. 파이썬 너무 빨라서 꼬이는 것 방지.\n",
    "from tqdm import tqdm_notebook   # for문 돌릴 때 진행상황을 %게이지로 알려준다."
   ]
  },
  {
   "cell_type": "code",
   "execution_count": 13,
   "metadata": {
    "scrolled": true
   },
   "outputs": [
    {
     "name": "stdout",
     "output_type": "stream",
     "text": [
      "Python 3.8.5\n"
     ]
    }
   ],
   "source": [
    "# python 버전 확인\n",
    "!python --version"
   ]
  },
  {
   "cell_type": "code",
   "execution_count": 14,
   "metadata": {},
   "outputs": [
    {
     "data": {
      "text/plain": [
       "'1.1.3'"
      ]
     },
     "execution_count": 14,
     "metadata": {},
     "output_type": "execute_result"
    }
   ],
   "source": [
    "# 판다스 버전 확인\n",
    "pd.__version__"
   ]
  },
  {
   "cell_type": "code",
   "execution_count": 15,
   "metadata": {},
   "outputs": [
    {
     "name": "stdout",
     "output_type": "stream",
     "text": [
      "1.크롤링할 키워드는 무엇입니까?: 대전 맛집\n"
     ]
    }
   ],
   "source": [
    "# 검색어, 검색 기간 정의\n",
    "query_txt = input('1.크롤링할 키워드는 무엇입니까?: ')"
   ]
  },
  {
   "cell_type": "code",
   "execution_count": 16,
   "metadata": {},
   "outputs": [],
   "source": [
    "query_txt=\"대전 맛집\""
   ]
  },
  {
   "cell_type": "markdown",
   "metadata": {},
   "source": [
    "# 크롤링할 블로그 url 수집하기"
   ]
  },
  {
   "cell_type": "code",
   "execution_count": 17,
   "metadata": {
    "scrolled": false
   },
   "outputs": [
    {
     "data": {
      "text/plain": [
       "'C:\\\\Users\\\\11\\\\Desktop\\\\수업자료\\\\모듈 2-3. 크롤러'"
      ]
     },
     "execution_count": 17,
     "metadata": {},
     "output_type": "execute_result"
    }
   ],
   "source": [
    "pwd"
   ]
  },
  {
   "cell_type": "code",
   "execution_count": 18,
   "metadata": {
    "code_folding": [],
    "scrolled": false
   },
   "outputs": [],
   "source": [
    "#Step 1. 크롬 웹브라우저 실행\n",
    "path = \"chromedriver.exe\"       # 크롬드라이버와 파이썬 저장위치 같아야함\n",
    "\n",
    "driver = webdriver.Chrome(path)  # selenium에서 불러온 기능\n",
    "\n",
    "# 사이트 주소는 네이버\n",
    "driver.get('http://www.naver.com')\n",
    "time.sleep(2)  # 2초간 정지"
   ]
  },
  {
   "cell_type": "code",
   "execution_count": 19,
   "metadata": {
    "code_folding": [],
    "scrolled": true
   },
   "outputs": [],
   "source": [
    "# Step 2. 네이버 검색창에 \"검색어\" 검색\n",
    "# 네이버창 F12 -> 화살표로 검색창 -> 기능 확인 -> id=query\n",
    "element = driver.find_element_by_id(\"query\")\n",
    "element.send_keys(query_txt)  # query_txt는 위에서 입력한 키워드\n",
    "element.submit()\n",
    "time.sleep(1)"
   ]
  },
  {
   "cell_type": "code",
   "execution_count": 20,
   "metadata": {},
   "outputs": [],
   "source": [
    "# <응용 방법들> \n",
    "# driver.find_element_by_css_selector(.class or #id)\n",
    "# driver.find_element_by_link_text(텍스트)\n",
    "# driver.find_element_by_xpath(xpath)\n",
    "# driver.find_element_by_id(id)\n",
    "# driver.find_element_by_name(name"
   ]
  },
  {
   "cell_type": "code",
   "execution_count": 22,
   "metadata": {
    "code_folding": [],
    "scrolled": true
   },
   "outputs": [],
   "source": [
    "# 'VIEW' 클릭\n",
    "driver.find_element_by_link_text(\"VIEW\").click( )\n",
    "\n",
    "# '블로그' 클릭\n",
    "driver.find_element_by_link_text(\"블로그\").click( )\n",
    "time.sleep(1)\n",
    "\n",
    "# '옵션' 클릭\n",
    "driver.find_element_by_link_text('옵션').click()\n",
    "time.sleep(1)"
   ]
  },
  {
   "cell_type": "code",
   "execution_count": 23,
   "metadata": {
    "code_folding": []
   },
   "outputs": [
    {
     "name": "stdout",
     "output_type": "stream",
     "text": [
      "전체\n",
      "블로그\n",
      "카페\n",
      "관련도순\n",
      "최신순\n",
      "전체\n",
      "1시간\n",
      "1일\n",
      "1주\n",
      "1개월\n",
      "3개월\n",
      "6개월\n",
      "1년\n",
      "직접입력옵션펼치기\n"
     ]
    }
   ],
   "source": [
    "# 검색옵션 확인\n",
    "item_li = driver.find_elements_by_css_selector('.option .txt')\n",
    "\n",
    "for i in range(0, len(item_li)):\n",
    "    print(item_li[i].text)\n",
    "    \n",
    "# 버튼 클릭 : .click()\n",
    "# text 확인 : .text\n",
    "# 속성값 확인 : .get_attribute(href)"
   ]
  },
  {
   "cell_type": "code",
   "execution_count": 24,
   "metadata": {
    "scrolled": true
   },
   "outputs": [
    {
     "name": "stdout",
     "output_type": "stream",
     "text": [
      "3개월\n"
     ]
    }
   ],
   "source": [
    "# 검색기간 '3개월' 클릭\n",
    "print(item_li[10].text)\n",
    "\n",
    "item_li[10].click()"
   ]
  },
  {
   "cell_type": "code",
   "execution_count": 25,
   "metadata": {},
   "outputs": [],
   "source": [
    "# 스크롤 다운\n",
    "# driver.execute_script(\"window.scrollTo(0, 500)\")\n",
    "# time.sleep(2)\n",
    "\n",
    "# 스크롤을 밑으로 내려주는 함수\n",
    "def scroll_down(driver):\n",
    "    driver.execute_script(\"window.scrollTo(0, 19431049)\")\n",
    "    time.sleep(1)\n",
    "\n",
    "# n: 스크롤할 횟수 설정\n",
    "n = 5\n",
    "i = 0\n",
    "while i < 5: # 이 조건이 만족되는 동안 반복 실행\n",
    "    scroll_down(driver) # 스크롤 다운\n",
    "    i = i+1"
   ]
  },
  {
   "cell_type": "code",
   "execution_count": 26,
   "metadata": {
    "scrolled": true
   },
   "outputs": [
    {
     "data": {
      "text/plain": [
       "<selenium.webdriver.remote.webelement.WebElement (session=\"7f7ed6f13c2c180a4846a7cb19c7a70e\", element=\"03e9bd08-590d-45eb-a5e6-37f0f9861261\")>"
      ]
     },
     "execution_count": 26,
     "metadata": {},
     "output_type": "execute_result"
    }
   ],
   "source": [
    "# 블로그 글 url들 수집\n",
    "url_list = []\n",
    "title_list = []\n",
    "\n",
    "# URL_raw 크롤링 시작\n",
    "# F12의 class를 \"\"사이에 적어줌\n",
    "# 맨앞에 점 찍어주고, 띄어쓰기에도 점 찍기\n",
    "articles = \".api_txt_lines.total_tit\"\n",
    "article_raw = driver.find_elements_by_css_selector(articles)\n",
    "article_raw[0]"
   ]
  },
  {
   "cell_type": "code",
   "execution_count": 27,
   "metadata": {},
   "outputs": [
    {
     "data": {
      "text/plain": [
       "'https://blog.naver.com/jinmylove?Redirect=Log&logNo=222317287992'"
      ]
     },
     "execution_count": 27,
     "metadata": {},
     "output_type": "execute_result"
    }
   ],
   "source": [
    "article_raw[0].get_attribute('href')"
   ]
  },
  {
   "cell_type": "code",
   "execution_count": 28,
   "metadata": {
    "scrolled": true
   },
   "outputs": [
    {
     "data": {
      "text/plain": [
       "[<selenium.webdriver.remote.webelement.WebElement (session=\"7f7ed6f13c2c180a4846a7cb19c7a70e\", element=\"03e9bd08-590d-45eb-a5e6-37f0f9861261\")>,\n",
       " <selenium.webdriver.remote.webelement.WebElement (session=\"7f7ed6f13c2c180a4846a7cb19c7a70e\", element=\"83138a2b-0913-4708-8158-150d50b10959\")>,\n",
       " <selenium.webdriver.remote.webelement.WebElement (session=\"7f7ed6f13c2c180a4846a7cb19c7a70e\", element=\"18783dc9-1fc5-4f1c-affa-3e790de9fb57\")>,\n",
       " <selenium.webdriver.remote.webelement.WebElement (session=\"7f7ed6f13c2c180a4846a7cb19c7a70e\", element=\"e270fd02-0fb7-4f76-a3c7-47e2773c2296\")>,\n",
       " <selenium.webdriver.remote.webelement.WebElement (session=\"7f7ed6f13c2c180a4846a7cb19c7a70e\", element=\"193a0d15-1a89-4fc9-85d8-277df5387372\")>,\n",
       " <selenium.webdriver.remote.webelement.WebElement (session=\"7f7ed6f13c2c180a4846a7cb19c7a70e\", element=\"9b5caf02-0b20-4237-b484-372aa8b661bd\")>,\n",
       " <selenium.webdriver.remote.webelement.WebElement (session=\"7f7ed6f13c2c180a4846a7cb19c7a70e\", element=\"2addc09c-7646-48f7-b230-a554dce50fa1\")>,\n",
       " <selenium.webdriver.remote.webelement.WebElement (session=\"7f7ed6f13c2c180a4846a7cb19c7a70e\", element=\"d45f0e6e-acac-4aa2-9f5a-96fafca6fdfb\")>,\n",
       " <selenium.webdriver.remote.webelement.WebElement (session=\"7f7ed6f13c2c180a4846a7cb19c7a70e\", element=\"143b650c-f15a-4921-b04c-b29b93a2dcac\")>,\n",
       " <selenium.webdriver.remote.webelement.WebElement (session=\"7f7ed6f13c2c180a4846a7cb19c7a70e\", element=\"41493c17-1be6-44ae-b5c0-f209adc349dc\")>,\n",
       " <selenium.webdriver.remote.webelement.WebElement (session=\"7f7ed6f13c2c180a4846a7cb19c7a70e\", element=\"6b07d6be-bea5-49ef-9762-9bb2542647d8\")>,\n",
       " <selenium.webdriver.remote.webelement.WebElement (session=\"7f7ed6f13c2c180a4846a7cb19c7a70e\", element=\"dc92d2ef-62c2-4a42-acef-ea3875d3be46\")>,\n",
       " <selenium.webdriver.remote.webelement.WebElement (session=\"7f7ed6f13c2c180a4846a7cb19c7a70e\", element=\"a025e3e2-6787-490c-91e2-095c142ac599\")>,\n",
       " <selenium.webdriver.remote.webelement.WebElement (session=\"7f7ed6f13c2c180a4846a7cb19c7a70e\", element=\"e46abea4-c990-4d48-814c-eb641dd17804\")>,\n",
       " <selenium.webdriver.remote.webelement.WebElement (session=\"7f7ed6f13c2c180a4846a7cb19c7a70e\", element=\"20c0eaf3-3fc6-48b5-b440-2b8c43231e06\")>,\n",
       " <selenium.webdriver.remote.webelement.WebElement (session=\"7f7ed6f13c2c180a4846a7cb19c7a70e\", element=\"f8f6d395-ccfb-4371-baa8-06ca9e51f6ed\")>,\n",
       " <selenium.webdriver.remote.webelement.WebElement (session=\"7f7ed6f13c2c180a4846a7cb19c7a70e\", element=\"5a98e459-c0fa-4fe3-8875-840898cbbf0b\")>,\n",
       " <selenium.webdriver.remote.webelement.WebElement (session=\"7f7ed6f13c2c180a4846a7cb19c7a70e\", element=\"71ffb08c-a545-4c70-bd06-8e03149cc7c4\")>,\n",
       " <selenium.webdriver.remote.webelement.WebElement (session=\"7f7ed6f13c2c180a4846a7cb19c7a70e\", element=\"22c7a665-be04-4b9f-a453-5577677e564f\")>,\n",
       " <selenium.webdriver.remote.webelement.WebElement (session=\"7f7ed6f13c2c180a4846a7cb19c7a70e\", element=\"8acf597f-8643-4b17-8ef6-f1d535df8565\")>,\n",
       " <selenium.webdriver.remote.webelement.WebElement (session=\"7f7ed6f13c2c180a4846a7cb19c7a70e\", element=\"3cf6a1e1-d3c5-4a50-8081-1936666e17bf\")>,\n",
       " <selenium.webdriver.remote.webelement.WebElement (session=\"7f7ed6f13c2c180a4846a7cb19c7a70e\", element=\"dfb61b0c-feca-4f93-940b-5540ea8a7215\")>,\n",
       " <selenium.webdriver.remote.webelement.WebElement (session=\"7f7ed6f13c2c180a4846a7cb19c7a70e\", element=\"816661d0-7728-4e3e-8572-7316f24c511b\")>,\n",
       " <selenium.webdriver.remote.webelement.WebElement (session=\"7f7ed6f13c2c180a4846a7cb19c7a70e\", element=\"e649d755-b26d-4ee5-9c26-b5880811c867\")>,\n",
       " <selenium.webdriver.remote.webelement.WebElement (session=\"7f7ed6f13c2c180a4846a7cb19c7a70e\", element=\"deb6e3b8-e65c-4079-bf8c-eef73b6b82b9\")>,\n",
       " <selenium.webdriver.remote.webelement.WebElement (session=\"7f7ed6f13c2c180a4846a7cb19c7a70e\", element=\"3a463127-5e8b-4248-91dc-54a07cd36d99\")>,\n",
       " <selenium.webdriver.remote.webelement.WebElement (session=\"7f7ed6f13c2c180a4846a7cb19c7a70e\", element=\"31436261-dce0-4849-ad5c-0692a677c396\")>,\n",
       " <selenium.webdriver.remote.webelement.WebElement (session=\"7f7ed6f13c2c180a4846a7cb19c7a70e\", element=\"d3b42af5-570b-443d-bbc7-712c71d37271\")>,\n",
       " <selenium.webdriver.remote.webelement.WebElement (session=\"7f7ed6f13c2c180a4846a7cb19c7a70e\", element=\"04ac0226-4d9c-4b29-b6b1-aa7140fb5e28\")>,\n",
       " <selenium.webdriver.remote.webelement.WebElement (session=\"7f7ed6f13c2c180a4846a7cb19c7a70e\", element=\"e976e5e6-3e8f-4b95-861d-447dda28944f\")>,\n",
       " <selenium.webdriver.remote.webelement.WebElement (session=\"7f7ed6f13c2c180a4846a7cb19c7a70e\", element=\"cda65b38-0829-4bc4-a6e0-eb6c1edba597\")>,\n",
       " <selenium.webdriver.remote.webelement.WebElement (session=\"7f7ed6f13c2c180a4846a7cb19c7a70e\", element=\"94c8f282-c755-4c21-aaee-dbcda9befa1a\")>,\n",
       " <selenium.webdriver.remote.webelement.WebElement (session=\"7f7ed6f13c2c180a4846a7cb19c7a70e\", element=\"e1cd5ff0-971d-439d-aae1-571cf0fd99f2\")>,\n",
       " <selenium.webdriver.remote.webelement.WebElement (session=\"7f7ed6f13c2c180a4846a7cb19c7a70e\", element=\"544882a7-3a86-4eb5-8b28-7f62d7ce64e0\")>,\n",
       " <selenium.webdriver.remote.webelement.WebElement (session=\"7f7ed6f13c2c180a4846a7cb19c7a70e\", element=\"ecfce318-c3d1-4841-a690-74853c44509e\")>,\n",
       " <selenium.webdriver.remote.webelement.WebElement (session=\"7f7ed6f13c2c180a4846a7cb19c7a70e\", element=\"08eaffc0-6cf8-4559-8c0f-43c8f351d91a\")>,\n",
       " <selenium.webdriver.remote.webelement.WebElement (session=\"7f7ed6f13c2c180a4846a7cb19c7a70e\", element=\"e43fe0bf-2de5-4e7a-8dde-48837c71d8d6\")>,\n",
       " <selenium.webdriver.remote.webelement.WebElement (session=\"7f7ed6f13c2c180a4846a7cb19c7a70e\", element=\"3d24dc01-cfff-4f06-94f4-e998e76b9623\")>,\n",
       " <selenium.webdriver.remote.webelement.WebElement (session=\"7f7ed6f13c2c180a4846a7cb19c7a70e\", element=\"04bd8315-8729-4856-8ac1-f2670d24c0e9\")>,\n",
       " <selenium.webdriver.remote.webelement.WebElement (session=\"7f7ed6f13c2c180a4846a7cb19c7a70e\", element=\"19c6095a-b283-49cd-be1f-827e0c879d15\")>,\n",
       " <selenium.webdriver.remote.webelement.WebElement (session=\"7f7ed6f13c2c180a4846a7cb19c7a70e\", element=\"8f22384f-6bf3-4746-9a7c-430cf7ae92e2\")>,\n",
       " <selenium.webdriver.remote.webelement.WebElement (session=\"7f7ed6f13c2c180a4846a7cb19c7a70e\", element=\"045001bd-5f3e-47e5-a9d9-e64de5c423e6\")>,\n",
       " <selenium.webdriver.remote.webelement.WebElement (session=\"7f7ed6f13c2c180a4846a7cb19c7a70e\", element=\"5453eb4c-2bf7-444f-b35c-e8003acfc3b1\")>,\n",
       " <selenium.webdriver.remote.webelement.WebElement (session=\"7f7ed6f13c2c180a4846a7cb19c7a70e\", element=\"d13ca991-f4a1-428c-82f8-554d192a47cf\")>,\n",
       " <selenium.webdriver.remote.webelement.WebElement (session=\"7f7ed6f13c2c180a4846a7cb19c7a70e\", element=\"6d0e1e1c-fb06-44a8-a067-eb02a0f03afa\")>,\n",
       " <selenium.webdriver.remote.webelement.WebElement (session=\"7f7ed6f13c2c180a4846a7cb19c7a70e\", element=\"2f9e1c9d-80d9-461f-829b-b97389f2fd05\")>,\n",
       " <selenium.webdriver.remote.webelement.WebElement (session=\"7f7ed6f13c2c180a4846a7cb19c7a70e\", element=\"68f0f8ce-e3f0-40ca-9055-275ea99015a2\")>,\n",
       " <selenium.webdriver.remote.webelement.WebElement (session=\"7f7ed6f13c2c180a4846a7cb19c7a70e\", element=\"0ad38584-dbd0-4470-af8c-7a150feb1594\")>,\n",
       " <selenium.webdriver.remote.webelement.WebElement (session=\"7f7ed6f13c2c180a4846a7cb19c7a70e\", element=\"1a3bab83-85f4-491c-ae65-5f8df8aed454\")>,\n",
       " <selenium.webdriver.remote.webelement.WebElement (session=\"7f7ed6f13c2c180a4846a7cb19c7a70e\", element=\"7ac9c4fd-351e-4f2f-8cb9-e18e56b4f507\")>,\n",
       " <selenium.webdriver.remote.webelement.WebElement (session=\"7f7ed6f13c2c180a4846a7cb19c7a70e\", element=\"a267086e-2071-4656-b530-caad51d02db0\")>,\n",
       " <selenium.webdriver.remote.webelement.WebElement (session=\"7f7ed6f13c2c180a4846a7cb19c7a70e\", element=\"3f065f30-2fb1-4de3-a251-45feb83b0db8\")>,\n",
       " <selenium.webdriver.remote.webelement.WebElement (session=\"7f7ed6f13c2c180a4846a7cb19c7a70e\", element=\"68a2edd8-7156-49eb-98c7-f048327b98e4\")>,\n",
       " <selenium.webdriver.remote.webelement.WebElement (session=\"7f7ed6f13c2c180a4846a7cb19c7a70e\", element=\"a7cbdb50-1f66-4ee1-96b2-44f5b400dd87\")>,\n",
       " <selenium.webdriver.remote.webelement.WebElement (session=\"7f7ed6f13c2c180a4846a7cb19c7a70e\", element=\"d6c5fdfb-1f7f-4339-acaf-d04d05ebc8e7\")>,\n",
       " <selenium.webdriver.remote.webelement.WebElement (session=\"7f7ed6f13c2c180a4846a7cb19c7a70e\", element=\"7a81b146-158d-406f-940f-d036182c38f9\")>,\n",
       " <selenium.webdriver.remote.webelement.WebElement (session=\"7f7ed6f13c2c180a4846a7cb19c7a70e\", element=\"67e3bcdc-37d0-48ab-9d17-633d12f241b3\")>,\n",
       " <selenium.webdriver.remote.webelement.WebElement (session=\"7f7ed6f13c2c180a4846a7cb19c7a70e\", element=\"de067037-583c-4212-aebb-f90960290d16\")>,\n",
       " <selenium.webdriver.remote.webelement.WebElement (session=\"7f7ed6f13c2c180a4846a7cb19c7a70e\", element=\"556c78db-6b0a-489c-bf65-3fb25fe22df2\")>,\n",
       " <selenium.webdriver.remote.webelement.WebElement (session=\"7f7ed6f13c2c180a4846a7cb19c7a70e\", element=\"6aa6ba98-0631-455c-a380-1a36fe25aa5a\")>,\n",
       " <selenium.webdriver.remote.webelement.WebElement (session=\"7f7ed6f13c2c180a4846a7cb19c7a70e\", element=\"0f9e722d-a333-46da-84db-78e61fc5158a\")>,\n",
       " <selenium.webdriver.remote.webelement.WebElement (session=\"7f7ed6f13c2c180a4846a7cb19c7a70e\", element=\"9bd8d784-68ca-43b7-bec4-8d1f30e73583\")>,\n",
       " <selenium.webdriver.remote.webelement.WebElement (session=\"7f7ed6f13c2c180a4846a7cb19c7a70e\", element=\"9dda65e7-efee-4e45-b8d8-0dda5d98ee5a\")>,\n",
       " <selenium.webdriver.remote.webelement.WebElement (session=\"7f7ed6f13c2c180a4846a7cb19c7a70e\", element=\"52174b52-5d0d-453c-b268-c34bb7fc2e1c\")>,\n",
       " <selenium.webdriver.remote.webelement.WebElement (session=\"7f7ed6f13c2c180a4846a7cb19c7a70e\", element=\"c012916d-9867-44ce-88fe-c754d8f3ce4b\")>,\n",
       " <selenium.webdriver.remote.webelement.WebElement (session=\"7f7ed6f13c2c180a4846a7cb19c7a70e\", element=\"4be6466a-65db-4ddf-87df-0354a081c58a\")>,\n",
       " <selenium.webdriver.remote.webelement.WebElement (session=\"7f7ed6f13c2c180a4846a7cb19c7a70e\", element=\"145950d1-193d-4b80-8ce9-ceba0efc232b\")>,\n",
       " <selenium.webdriver.remote.webelement.WebElement (session=\"7f7ed6f13c2c180a4846a7cb19c7a70e\", element=\"d30cc5e2-7862-4ea0-8877-b456807018c3\")>,\n",
       " <selenium.webdriver.remote.webelement.WebElement (session=\"7f7ed6f13c2c180a4846a7cb19c7a70e\", element=\"2fb0e142-9e4f-47cf-ba1b-e3cedc659d1a\")>,\n",
       " <selenium.webdriver.remote.webelement.WebElement (session=\"7f7ed6f13c2c180a4846a7cb19c7a70e\", element=\"a0404df4-b739-46cc-af52-076f298fe5bc\")>,\n",
       " <selenium.webdriver.remote.webelement.WebElement (session=\"7f7ed6f13c2c180a4846a7cb19c7a70e\", element=\"49c115fb-4133-4ee8-8dbe-257ede28aeca\")>,\n",
       " <selenium.webdriver.remote.webelement.WebElement (session=\"7f7ed6f13c2c180a4846a7cb19c7a70e\", element=\"e4accddd-dcf4-43a3-82a4-fb0878f60379\")>,\n",
       " <selenium.webdriver.remote.webelement.WebElement (session=\"7f7ed6f13c2c180a4846a7cb19c7a70e\", element=\"2ba3957c-a7be-4130-8cf5-3642ad016ee4\")>,\n",
       " <selenium.webdriver.remote.webelement.WebElement (session=\"7f7ed6f13c2c180a4846a7cb19c7a70e\", element=\"09b750cc-c9c4-498a-8e8a-b957c905639b\")>,\n",
       " <selenium.webdriver.remote.webelement.WebElement (session=\"7f7ed6f13c2c180a4846a7cb19c7a70e\", element=\"9ad65c85-ba11-4898-b710-7593e4f9cfd5\")>,\n",
       " <selenium.webdriver.remote.webelement.WebElement (session=\"7f7ed6f13c2c180a4846a7cb19c7a70e\", element=\"77e49d01-5bd2-4e2e-8630-2d2b26045193\")>,\n",
       " <selenium.webdriver.remote.webelement.WebElement (session=\"7f7ed6f13c2c180a4846a7cb19c7a70e\", element=\"0f3da7c1-3717-41ae-9bb5-de3bcfaadf5e\")>,\n",
       " <selenium.webdriver.remote.webelement.WebElement (session=\"7f7ed6f13c2c180a4846a7cb19c7a70e\", element=\"e3e6c292-2eb7-4f72-93e1-5fbfc385b678\")>,\n",
       " <selenium.webdriver.remote.webelement.WebElement (session=\"7f7ed6f13c2c180a4846a7cb19c7a70e\", element=\"e96e83de-addb-41bd-9e0c-f91bb6ec0f8d\")>,\n",
       " <selenium.webdriver.remote.webelement.WebElement (session=\"7f7ed6f13c2c180a4846a7cb19c7a70e\", element=\"0557d685-036e-4226-ba30-ca9589caaba0\")>,\n",
       " <selenium.webdriver.remote.webelement.WebElement (session=\"7f7ed6f13c2c180a4846a7cb19c7a70e\", element=\"d5333ac4-38d3-42b7-95c5-71df54624ef7\")>,\n",
       " <selenium.webdriver.remote.webelement.WebElement (session=\"7f7ed6f13c2c180a4846a7cb19c7a70e\", element=\"1678c91a-b5fe-4416-b8db-52cc3d690348\")>,\n",
       " <selenium.webdriver.remote.webelement.WebElement (session=\"7f7ed6f13c2c180a4846a7cb19c7a70e\", element=\"8661fcfe-808d-400b-996f-bc1e0837b7f4\")>,\n",
       " <selenium.webdriver.remote.webelement.WebElement (session=\"7f7ed6f13c2c180a4846a7cb19c7a70e\", element=\"e086d797-aec0-40bb-a425-c36f46f3023b\")>,\n",
       " <selenium.webdriver.remote.webelement.WebElement (session=\"7f7ed6f13c2c180a4846a7cb19c7a70e\", element=\"c340113c-2892-47c4-b374-bb03c5ace9ec\")>,\n",
       " <selenium.webdriver.remote.webelement.WebElement (session=\"7f7ed6f13c2c180a4846a7cb19c7a70e\", element=\"0d1b201e-92a8-48a0-a1e8-a5af112a5510\")>,\n",
       " <selenium.webdriver.remote.webelement.WebElement (session=\"7f7ed6f13c2c180a4846a7cb19c7a70e\", element=\"c9f2e0ee-0221-4189-8a10-5de7fe6f7f8b\")>,\n",
       " <selenium.webdriver.remote.webelement.WebElement (session=\"7f7ed6f13c2c180a4846a7cb19c7a70e\", element=\"f25c99fb-4098-48d4-96e9-a92976f7c1b4\")>,\n",
       " <selenium.webdriver.remote.webelement.WebElement (session=\"7f7ed6f13c2c180a4846a7cb19c7a70e\", element=\"7de6928e-8e82-46c4-926e-d4df68177e70\")>,\n",
       " <selenium.webdriver.remote.webelement.WebElement (session=\"7f7ed6f13c2c180a4846a7cb19c7a70e\", element=\"f3f95823-dd93-4b35-9ea7-9c5f8ad14a33\")>,\n",
       " <selenium.webdriver.remote.webelement.WebElement (session=\"7f7ed6f13c2c180a4846a7cb19c7a70e\", element=\"3720df26-bfe2-435f-be96-87572ce6a932\")>,\n",
       " <selenium.webdriver.remote.webelement.WebElement (session=\"7f7ed6f13c2c180a4846a7cb19c7a70e\", element=\"0574fa1c-7996-48bb-afcf-e854650bd1bc\")>,\n",
       " <selenium.webdriver.remote.webelement.WebElement (session=\"7f7ed6f13c2c180a4846a7cb19c7a70e\", element=\"fbb34e18-294b-4902-92cb-0c5167752323\")>,\n",
       " <selenium.webdriver.remote.webelement.WebElement (session=\"7f7ed6f13c2c180a4846a7cb19c7a70e\", element=\"11955e4c-786f-44a4-9b87-107d67e1c404\")>,\n",
       " <selenium.webdriver.remote.webelement.WebElement (session=\"7f7ed6f13c2c180a4846a7cb19c7a70e\", element=\"9901932e-0174-4646-9ed2-db16fc76e35d\")>,\n",
       " <selenium.webdriver.remote.webelement.WebElement (session=\"7f7ed6f13c2c180a4846a7cb19c7a70e\", element=\"26f7e7e4-2e92-4e0f-8a72-e4e45ec35c34\")>,\n",
       " <selenium.webdriver.remote.webelement.WebElement (session=\"7f7ed6f13c2c180a4846a7cb19c7a70e\", element=\"a3c7bda4-00dd-4021-a234-cf25316d94b4\")>,\n",
       " <selenium.webdriver.remote.webelement.WebElement (session=\"7f7ed6f13c2c180a4846a7cb19c7a70e\", element=\"82da0df5-3db3-4d04-b966-b2519421b523\")>,\n",
       " <selenium.webdriver.remote.webelement.WebElement (session=\"7f7ed6f13c2c180a4846a7cb19c7a70e\", element=\"54a6805c-302a-4737-a20f-7fdff5963e60\")>,\n",
       " <selenium.webdriver.remote.webelement.WebElement (session=\"7f7ed6f13c2c180a4846a7cb19c7a70e\", element=\"1bdc257e-a664-4c47-8ed6-5b5044300c7c\")>,\n",
       " <selenium.webdriver.remote.webelement.WebElement (session=\"7f7ed6f13c2c180a4846a7cb19c7a70e\", element=\"786d8c8b-1869-4427-ba70-f69ff9bb7edb\")>,\n",
       " <selenium.webdriver.remote.webelement.WebElement (session=\"7f7ed6f13c2c180a4846a7cb19c7a70e\", element=\"4afd1eb4-fab6-4536-9935-d08fcd773e81\")>,\n",
       " <selenium.webdriver.remote.webelement.WebElement (session=\"7f7ed6f13c2c180a4846a7cb19c7a70e\", element=\"e08e7d9c-4418-422a-9a0a-8273e2ed2d18\")>,\n",
       " <selenium.webdriver.remote.webelement.WebElement (session=\"7f7ed6f13c2c180a4846a7cb19c7a70e\", element=\"3a99fdb3-1b23-4f15-a1ef-0fb81a309535\")>,\n",
       " <selenium.webdriver.remote.webelement.WebElement (session=\"7f7ed6f13c2c180a4846a7cb19c7a70e\", element=\"a68898d1-0c24-4ec7-8c17-29358533f228\")>,\n",
       " <selenium.webdriver.remote.webelement.WebElement (session=\"7f7ed6f13c2c180a4846a7cb19c7a70e\", element=\"af1ab6f7-0044-4f34-b4e6-bbff87bec410\")>,\n",
       " <selenium.webdriver.remote.webelement.WebElement (session=\"7f7ed6f13c2c180a4846a7cb19c7a70e\", element=\"02ec94ec-1d17-4ad6-995e-47cbba17de7f\")>,\n",
       " <selenium.webdriver.remote.webelement.WebElement (session=\"7f7ed6f13c2c180a4846a7cb19c7a70e\", element=\"901151f0-d804-4202-ad66-fcc56f8a9a41\")>,\n",
       " <selenium.webdriver.remote.webelement.WebElement (session=\"7f7ed6f13c2c180a4846a7cb19c7a70e\", element=\"91b81a7b-b038-4859-b579-b6f987e508df\")>,\n",
       " <selenium.webdriver.remote.webelement.WebElement (session=\"7f7ed6f13c2c180a4846a7cb19c7a70e\", element=\"0c2f4b48-82c8-4aaa-8e68-6dac6aadc31b\")>,\n",
       " <selenium.webdriver.remote.webelement.WebElement (session=\"7f7ed6f13c2c180a4846a7cb19c7a70e\", element=\"c252e824-72ac-4f0f-b13a-15bc9afe3b6a\")>,\n",
       " <selenium.webdriver.remote.webelement.WebElement (session=\"7f7ed6f13c2c180a4846a7cb19c7a70e\", element=\"fd694aec-8394-4c13-babd-77d44e8c3df7\")>,\n",
       " <selenium.webdriver.remote.webelement.WebElement (session=\"7f7ed6f13c2c180a4846a7cb19c7a70e\", element=\"af139699-ed03-485e-9bc5-ff8d3f2ee100\")>,\n",
       " <selenium.webdriver.remote.webelement.WebElement (session=\"7f7ed6f13c2c180a4846a7cb19c7a70e\", element=\"e198468a-f00d-4fc1-9068-3b073f4283f1\")>,\n",
       " <selenium.webdriver.remote.webelement.WebElement (session=\"7f7ed6f13c2c180a4846a7cb19c7a70e\", element=\"dfbf867c-c917-44f2-a983-9e1a2bc39cf2\")>,\n",
       " <selenium.webdriver.remote.webelement.WebElement (session=\"7f7ed6f13c2c180a4846a7cb19c7a70e\", element=\"90d62a33-15cf-442d-b979-6ab0124f3c35\")>,\n",
       " <selenium.webdriver.remote.webelement.WebElement (session=\"7f7ed6f13c2c180a4846a7cb19c7a70e\", element=\"3d385630-f970-48e0-83d6-04e84c3ef486\")>,\n",
       " <selenium.webdriver.remote.webelement.WebElement (session=\"7f7ed6f13c2c180a4846a7cb19c7a70e\", element=\"0da9d58d-9fbc-44c9-ac6e-c8e324912e0a\")>,\n",
       " <selenium.webdriver.remote.webelement.WebElement (session=\"7f7ed6f13c2c180a4846a7cb19c7a70e\", element=\"9d6fb1ad-4621-42b7-952f-6420ed97f1fa\")>,\n",
       " <selenium.webdriver.remote.webelement.WebElement (session=\"7f7ed6f13c2c180a4846a7cb19c7a70e\", element=\"7ae5e4ff-5f63-4e3e-b107-d3d85ac27e79\")>,\n",
       " <selenium.webdriver.remote.webelement.WebElement (session=\"7f7ed6f13c2c180a4846a7cb19c7a70e\", element=\"ab6de384-a99f-4e9d-8ca4-f9a0f86a018a\")>,\n",
       " <selenium.webdriver.remote.webelement.WebElement (session=\"7f7ed6f13c2c180a4846a7cb19c7a70e\", element=\"4ccc0321-ce66-4431-9c5d-477a3efc48bc\")>,\n",
       " <selenium.webdriver.remote.webelement.WebElement (session=\"7f7ed6f13c2c180a4846a7cb19c7a70e\", element=\"d8bc829b-c7e2-4724-ae34-3594e899cdbd\")>,\n",
       " <selenium.webdriver.remote.webelement.WebElement (session=\"7f7ed6f13c2c180a4846a7cb19c7a70e\", element=\"ab8f5f52-0911-43f8-b84b-6a38e85394cf\")>,\n",
       " <selenium.webdriver.remote.webelement.WebElement (session=\"7f7ed6f13c2c180a4846a7cb19c7a70e\", element=\"ad3eeeb9-2302-473c-bfa1-6e501e6daf0b\")>,\n",
       " <selenium.webdriver.remote.webelement.WebElement (session=\"7f7ed6f13c2c180a4846a7cb19c7a70e\", element=\"5365c381-39bd-4553-a475-ea4eec74139e\")>,\n",
       " <selenium.webdriver.remote.webelement.WebElement (session=\"7f7ed6f13c2c180a4846a7cb19c7a70e\", element=\"4fc40945-3bc6-4ba1-b6e8-d4a9dfbac7a6\")>,\n",
       " <selenium.webdriver.remote.webelement.WebElement (session=\"7f7ed6f13c2c180a4846a7cb19c7a70e\", element=\"857133e2-4583-48f4-a93c-0ee5225d169f\")>,\n",
       " <selenium.webdriver.remote.webelement.WebElement (session=\"7f7ed6f13c2c180a4846a7cb19c7a70e\", element=\"d7a31310-7302-4b60-ab8b-94db3fd5451f\")>,\n",
       " <selenium.webdriver.remote.webelement.WebElement (session=\"7f7ed6f13c2c180a4846a7cb19c7a70e\", element=\"97c45416-da09-47a4-8980-31d48df8c961\")>,\n",
       " <selenium.webdriver.remote.webelement.WebElement (session=\"7f7ed6f13c2c180a4846a7cb19c7a70e\", element=\"24e922f1-a1ed-4d9a-8183-71099e7b9990\")>,\n",
       " <selenium.webdriver.remote.webelement.WebElement (session=\"7f7ed6f13c2c180a4846a7cb19c7a70e\", element=\"f274c38e-3bc7-453c-9c7a-597de825dbe8\")>,\n",
       " <selenium.webdriver.remote.webelement.WebElement (session=\"7f7ed6f13c2c180a4846a7cb19c7a70e\", element=\"1ef51b65-1b4f-42a8-9436-8001c80402ee\")>,\n",
       " <selenium.webdriver.remote.webelement.WebElement (session=\"7f7ed6f13c2c180a4846a7cb19c7a70e\", element=\"8688bc5e-f43a-482f-bf8a-525be7f9e18f\")>,\n",
       " <selenium.webdriver.remote.webelement.WebElement (session=\"7f7ed6f13c2c180a4846a7cb19c7a70e\", element=\"5223c8a6-d3bf-4c8c-887c-06378045fda1\")>,\n",
       " <selenium.webdriver.remote.webelement.WebElement (session=\"7f7ed6f13c2c180a4846a7cb19c7a70e\", element=\"a7432797-24c9-4e5b-afc2-dec14fdb2e48\")>,\n",
       " <selenium.webdriver.remote.webelement.WebElement (session=\"7f7ed6f13c2c180a4846a7cb19c7a70e\", element=\"2b1dac7f-7ebd-4be6-afa6-e4d630cf78e4\")>,\n",
       " <selenium.webdriver.remote.webelement.WebElement (session=\"7f7ed6f13c2c180a4846a7cb19c7a70e\", element=\"dfaa0d94-5fe6-4654-aadc-9d18c25c07ef\")>,\n",
       " <selenium.webdriver.remote.webelement.WebElement (session=\"7f7ed6f13c2c180a4846a7cb19c7a70e\", element=\"16d84c68-586b-4372-8c9f-308f5f7739e9\")>,\n",
       " <selenium.webdriver.remote.webelement.WebElement (session=\"7f7ed6f13c2c180a4846a7cb19c7a70e\", element=\"226e7989-0626-46a1-9bf6-83f1f4f37f54\")>,\n",
       " <selenium.webdriver.remote.webelement.WebElement (session=\"7f7ed6f13c2c180a4846a7cb19c7a70e\", element=\"f50f875d-3534-4bdc-8e2c-a6a6944873e6\")>,\n",
       " <selenium.webdriver.remote.webelement.WebElement (session=\"7f7ed6f13c2c180a4846a7cb19c7a70e\", element=\"3000ff55-badf-4d75-8d01-4f150219f24a\")>,\n",
       " <selenium.webdriver.remote.webelement.WebElement (session=\"7f7ed6f13c2c180a4846a7cb19c7a70e\", element=\"7aeec494-7937-46cf-8dcf-792a1300067d\")>,\n",
       " <selenium.webdriver.remote.webelement.WebElement (session=\"7f7ed6f13c2c180a4846a7cb19c7a70e\", element=\"88abca77-4376-4d3a-bfab-cbe2bf32c07b\")>,\n",
       " <selenium.webdriver.remote.webelement.WebElement (session=\"7f7ed6f13c2c180a4846a7cb19c7a70e\", element=\"013d7c12-840f-4e78-a96a-cd96aa87387a\")>,\n",
       " <selenium.webdriver.remote.webelement.WebElement (session=\"7f7ed6f13c2c180a4846a7cb19c7a70e\", element=\"33b18ca2-5b7a-45d2-958c-e6c33d17aa0f\")>,\n",
       " <selenium.webdriver.remote.webelement.WebElement (session=\"7f7ed6f13c2c180a4846a7cb19c7a70e\", element=\"30a80043-c38f-40fc-8dd1-00dfc56707c8\")>,\n",
       " <selenium.webdriver.remote.webelement.WebElement (session=\"7f7ed6f13c2c180a4846a7cb19c7a70e\", element=\"109dd624-42d0-4c79-9435-601c280a84e5\")>,\n",
       " <selenium.webdriver.remote.webelement.WebElement (session=\"7f7ed6f13c2c180a4846a7cb19c7a70e\", element=\"63e74153-564f-4bab-90d1-6ed987129eb7\")>,\n",
       " <selenium.webdriver.remote.webelement.WebElement (session=\"7f7ed6f13c2c180a4846a7cb19c7a70e\", element=\"e3ec6d64-c64c-45ad-bc35-18cd85a4d616\")>,\n",
       " <selenium.webdriver.remote.webelement.WebElement (session=\"7f7ed6f13c2c180a4846a7cb19c7a70e\", element=\"750b834f-a2b8-4bd4-b22d-2da1c77ca45a\")>,\n",
       " <selenium.webdriver.remote.webelement.WebElement (session=\"7f7ed6f13c2c180a4846a7cb19c7a70e\", element=\"ea09a5d2-ce4f-49d9-b30b-84dee9fba9bb\")>,\n",
       " <selenium.webdriver.remote.webelement.WebElement (session=\"7f7ed6f13c2c180a4846a7cb19c7a70e\", element=\"86604456-9e11-4970-9caf-d6adc6a16c27\")>,\n",
       " <selenium.webdriver.remote.webelement.WebElement (session=\"7f7ed6f13c2c180a4846a7cb19c7a70e\", element=\"5757525b-08e0-4877-ac9b-71350cb8587d\")>,\n",
       " <selenium.webdriver.remote.webelement.WebElement (session=\"7f7ed6f13c2c180a4846a7cb19c7a70e\", element=\"c43ffe1e-9d32-428f-889a-53c556fe7080\")>,\n",
       " <selenium.webdriver.remote.webelement.WebElement (session=\"7f7ed6f13c2c180a4846a7cb19c7a70e\", element=\"b33a9b57-3b0e-4b43-b833-8bd5be676b23\")>,\n",
       " <selenium.webdriver.remote.webelement.WebElement (session=\"7f7ed6f13c2c180a4846a7cb19c7a70e\", element=\"14b44756-e9ee-4bd2-8d94-008a3c0fee38\")>,\n",
       " <selenium.webdriver.remote.webelement.WebElement (session=\"7f7ed6f13c2c180a4846a7cb19c7a70e\", element=\"8c9140a9-6c0b-46e0-ac51-bdbd66d946a3\")>,\n",
       " <selenium.webdriver.remote.webelement.WebElement (session=\"7f7ed6f13c2c180a4846a7cb19c7a70e\", element=\"782f739a-f23d-4a0c-a518-a59116156bf7\")>,\n",
       " <selenium.webdriver.remote.webelement.WebElement (session=\"7f7ed6f13c2c180a4846a7cb19c7a70e\", element=\"15d5eaa6-5fc0-4492-8c43-4341544bcbbd\")>,\n",
       " <selenium.webdriver.remote.webelement.WebElement (session=\"7f7ed6f13c2c180a4846a7cb19c7a70e\", element=\"10545a24-600a-4971-a66d-2ffaa9f884f9\")>,\n",
       " <selenium.webdriver.remote.webelement.WebElement (session=\"7f7ed6f13c2c180a4846a7cb19c7a70e\", element=\"e16f6a94-c7c0-40c2-a6d3-b5886b22a291\")>,\n",
       " <selenium.webdriver.remote.webelement.WebElement (session=\"7f7ed6f13c2c180a4846a7cb19c7a70e\", element=\"1fd50d9f-51f7-4b99-87bd-c267702d9012\")>,\n",
       " <selenium.webdriver.remote.webelement.WebElement (session=\"7f7ed6f13c2c180a4846a7cb19c7a70e\", element=\"65af2ace-1339-4949-b108-f2aea3049b62\")>,\n",
       " <selenium.webdriver.remote.webelement.WebElement (session=\"7f7ed6f13c2c180a4846a7cb19c7a70e\", element=\"d67f124e-f364-4f45-959a-d964440abe3d\")>,\n",
       " <selenium.webdriver.remote.webelement.WebElement (session=\"7f7ed6f13c2c180a4846a7cb19c7a70e\", element=\"282636d5-9b5a-41c5-b191-7a380fcbe276\")>,\n",
       " <selenium.webdriver.remote.webelement.WebElement (session=\"7f7ed6f13c2c180a4846a7cb19c7a70e\", element=\"0ebde2d1-97f6-4851-a479-2e91355e41dd\")>,\n",
       " <selenium.webdriver.remote.webelement.WebElement (session=\"7f7ed6f13c2c180a4846a7cb19c7a70e\", element=\"9f4239fd-c129-4eac-8b57-193d479ee91b\")>,\n",
       " <selenium.webdriver.remote.webelement.WebElement (session=\"7f7ed6f13c2c180a4846a7cb19c7a70e\", element=\"b560346d-0022-40f4-a738-4af7d9889acc\")>,\n",
       " <selenium.webdriver.remote.webelement.WebElement (session=\"7f7ed6f13c2c180a4846a7cb19c7a70e\", element=\"9892f40d-26d7-4bd0-aa2f-b1340ba3d55a\")>,\n",
       " <selenium.webdriver.remote.webelement.WebElement (session=\"7f7ed6f13c2c180a4846a7cb19c7a70e\", element=\"0e0d7680-29f7-4f7f-934e-1fe557a5107d\")>,\n",
       " <selenium.webdriver.remote.webelement.WebElement (session=\"7f7ed6f13c2c180a4846a7cb19c7a70e\", element=\"f53184d0-6e7e-42f7-82ca-8747408b92c0\")>,\n",
       " <selenium.webdriver.remote.webelement.WebElement (session=\"7f7ed6f13c2c180a4846a7cb19c7a70e\", element=\"6753c5b9-342b-467d-8145-99b7a5b61ade\")>,\n",
       " <selenium.webdriver.remote.webelement.WebElement (session=\"7f7ed6f13c2c180a4846a7cb19c7a70e\", element=\"b082e490-ea29-42d1-9112-50cc24e31cbb\")>,\n",
       " <selenium.webdriver.remote.webelement.WebElement (session=\"7f7ed6f13c2c180a4846a7cb19c7a70e\", element=\"8d3aed42-29ff-4e2b-bc7d-494e4f03742b\")>,\n",
       " <selenium.webdriver.remote.webelement.WebElement (session=\"7f7ed6f13c2c180a4846a7cb19c7a70e\", element=\"7bdfafff-7206-43db-bbe1-418dd5ca7c13\")>,\n",
       " <selenium.webdriver.remote.webelement.WebElement (session=\"7f7ed6f13c2c180a4846a7cb19c7a70e\", element=\"542e75b2-c85e-4093-a9e1-9398b41915ef\")>,\n",
       " <selenium.webdriver.remote.webelement.WebElement (session=\"7f7ed6f13c2c180a4846a7cb19c7a70e\", element=\"cf871326-cd89-4a4b-b3a4-4d2d25c099c9\")>,\n",
       " <selenium.webdriver.remote.webelement.WebElement (session=\"7f7ed6f13c2c180a4846a7cb19c7a70e\", element=\"d4472ef2-d166-403f-9cfd-1dd798a0db74\")>,\n",
       " <selenium.webdriver.remote.webelement.WebElement (session=\"7f7ed6f13c2c180a4846a7cb19c7a70e\", element=\"f6ed4ed8-7009-40c7-b7b3-c94a6e2cf649\")>]"
      ]
     },
     "execution_count": 28,
     "metadata": {},
     "output_type": "execute_result"
    }
   ],
   "source": [
    "article_raw"
   ]
  },
  {
   "cell_type": "code",
   "execution_count": 29,
   "metadata": {
    "scrolled": true
   },
   "outputs": [],
   "source": [
    "# 크롤링한 url 정제 시작\n",
    "# F12로 정보 봤을 때, 색깔 글씨면 .get_attribute('href')\n",
    "# 검정 글씨면 .text\n",
    "for article in article_raw:\n",
    "    url = article.get_attribute('href')   \n",
    "    url_list.append(url)\n",
    "\n",
    "# 1초 쉬어 주고,\n",
    "time.sleep(1)\n",
    "    \n",
    "# 제목 크롤링 시작    \n",
    "for article in article_raw:\n",
    "    title = article.text\n",
    "    title_list.append(title)"
   ]
  },
  {
   "cell_type": "code",
   "execution_count": null,
   "metadata": {},
   "outputs": [],
   "source": []
  },
  {
   "cell_type": "code",
   "execution_count": 30,
   "metadata": {},
   "outputs": [
    {
     "data": {
      "text/plain": [
       "['https://blog.naver.com/jinmylove?Redirect=Log&logNo=222317287992',\n",
       " 'https://blog.naver.com/jin3641?Redirect=Log&logNo=222311340621',\n",
       " 'https://blog.naver.com/sooya1127?Redirect=Log&logNo=222311344171',\n",
       " 'https://blog.naver.com/two-park?Redirect=Log&logNo=222339159384',\n",
       " 'https://blog.naver.com/lovegpop?Redirect=Log&logNo=222284253302',\n",
       " 'https://blog.naver.com/mjati?Redirect=Log&logNo=222257706805',\n",
       " 'https://blog.naver.com/coolj21104?Redirect=Log&logNo=222319537797',\n",
       " 'https://blog.naver.com/3357266?Redirect=Log&logNo=222272556433',\n",
       " 'https://blog.naver.com/idhsssh?Redirect=Log&logNo=222289511153',\n",
       " 'https://blog.naver.com/nara2381?Redirect=Log&logNo=222258442674',\n",
       " 'https://blog.naver.com/zz0507?Redirect=Log&logNo=222310705844',\n",
       " 'https://blog.naver.com/5636in?Redirect=Log&logNo=222234171236',\n",
       " 'https://blog.naver.com/2tjsdyd?Redirect=Log&logNo=222255002108',\n",
       " 'https://blog.naver.com/rlawndud1541?Redirect=Log&logNo=222336387957',\n",
       " 'https://blog.naver.com/tnghks8897?Redirect=Log&logNo=222311180679',\n",
       " 'https://blog.naver.com/newosilent?Redirect=Log&logNo=222247272471',\n",
       " 'https://blog.naver.com/blue5292?Redirect=Log&logNo=222326030590',\n",
       " 'https://blog.naver.com/phrases11?Redirect=Log&logNo=222252557820',\n",
       " 'https://blog.naver.com/jm6920?Redirect=Log&logNo=222268453969',\n",
       " 'https://blog.naver.com/anjanjajaj?Redirect=Log&logNo=222292556766',\n",
       " 'https://blog.naver.com/jeju8253?Redirect=Log&logNo=222294291861',\n",
       " 'https://blog.naver.com/tlsduswjd88?Redirect=Log&logNo=222290206884',\n",
       " 'https://blog.naver.com/ksj649?Redirect=Log&logNo=222327634527',\n",
       " 'https://blog.naver.com/hama2218?Redirect=Log&logNo=222245093401',\n",
       " 'https://blog.naver.com/7wisdom7?Redirect=Log&logNo=222292663099',\n",
       " 'https://blog.naver.com/haley0206?Redirect=Log&logNo=222287969695',\n",
       " 'https://blog.naver.com/rlawndud1541?Redirect=Log&logNo=222315886697',\n",
       " 'https://blog.naver.com/bongja814?Redirect=Log&logNo=222310311454',\n",
       " 'https://blog.naver.com/dmisg?Redirect=Log&logNo=222321440167',\n",
       " 'https://blog.naver.com/blue5292?Redirect=Log&logNo=222256711435',\n",
       " 'https://blog.naver.com/koscandle?Redirect=Log&logNo=222246974880',\n",
       " 'https://blog.naver.com/jinmichu?Redirect=Log&logNo=222293671695',\n",
       " 'https://blog.naver.com/ae741963?Redirect=Log&logNo=222284370153',\n",
       " 'https://blog.naver.com/lovely6035?Redirect=Log&logNo=222293182887',\n",
       " 'https://blog.naver.com/yamoya98?Redirect=Log&logNo=222254668182',\n",
       " 'https://blog.naver.com/ambition_jw?Redirect=Log&logNo=222320896032',\n",
       " 'https://blog.naver.com/lovelysuns?Redirect=Log&logNo=222290667696',\n",
       " 'https://blog.naver.com/dbswl8878?Redirect=Log&logNo=222333355418',\n",
       " 'https://blog.naver.com/ckacka1024?Redirect=Log&logNo=222333811390',\n",
       " 'https://blog.naver.com/tnrud0870?Redirect=Log&logNo=222322440361',\n",
       " 'https://blog.naver.com/daejeontour?Redirect=Log&logNo=222272926361',\n",
       " 'https://blog.naver.com/rokag4?Redirect=Log&logNo=222237611328',\n",
       " 'https://blog.naver.com/corea1018?Redirect=Log&logNo=222319542375',\n",
       " 'https://blog.naver.com/shriya?Redirect=Log&logNo=222283560220',\n",
       " 'https://blog.naver.com/dairyukem?Redirect=Log&logNo=222281578251',\n",
       " 'https://blog.naver.com/anjanjajaj?Redirect=Log&logNo=222246737637',\n",
       " 'https://blog.naver.com/containsky?Redirect=Log&logNo=222312451385',\n",
       " 'https://blog.naver.com/pang4158?Redirect=Log&logNo=222340195398',\n",
       " 'https://blog.naver.com/rkdduswn217?Redirect=Log&logNo=222250161723',\n",
       " 'https://blog.naver.com/12woorim?Redirect=Log&logNo=222322481477',\n",
       " 'https://blog.naver.com/pealrpink?Redirect=Log&logNo=222281411941',\n",
       " 'https://blog.naver.com/ae741963?Redirect=Log&logNo=222256433353',\n",
       " 'https://blog.naver.com/pinkbomi?Redirect=Log&logNo=222334821681',\n",
       " 'https://blog.naver.com/dusdn0905?Redirect=Log&logNo=222272597229',\n",
       " 'https://blog.naver.com/vhdkdl?Redirect=Log&logNo=222334755346',\n",
       " 'https://blog.naver.com/mint_vanilla?Redirect=Log&logNo=222284555681',\n",
       " 'https://blog.naver.com/qhrehowl10?Redirect=Log&logNo=222311382577',\n",
       " 'https://blog.naver.com/compass7979?Redirect=Log&logNo=222291448412',\n",
       " 'https://blog.naver.com/jw993?Redirect=Log&logNo=222255165039',\n",
       " 'https://blog.naver.com/anjanjajaj?Redirect=Log&logNo=222277169673',\n",
       " 'https://blog.naver.com/duddl5154?Redirect=Log&logNo=222298517827',\n",
       " 'https://blog.naver.com/dlwowjd46888?Redirect=Log&logNo=222280942085',\n",
       " 'https://blog.naver.com/onlyhw2?Redirect=Log&logNo=222299251762',\n",
       " 'https://blog.naver.com/compass7979?Redirect=Log&logNo=222338858738',\n",
       " 'https://blog.naver.com/dlwowjd46888?Redirect=Log&logNo=222303378613',\n",
       " 'https://blog.naver.com/rlawndud1541?Redirect=Log&logNo=222243206320',\n",
       " 'https://blog.naver.com/ae741963?Redirect=Log&logNo=222336566165',\n",
       " 'https://blog.naver.com/koscandle?Redirect=Log&logNo=222250183090',\n",
       " 'https://blog.naver.com/qls1021?Redirect=Log&logNo=222299120929',\n",
       " 'https://blog.naver.com/12woorim?Redirect=Log&logNo=222323597331',\n",
       " 'https://blog.naver.com/dbswl8878?Redirect=Log&logNo=222339051436',\n",
       " 'https://blog.naver.com/esrastyle?Redirect=Log&logNo=222257138019',\n",
       " 'https://blog.naver.com/ae741963?Redirect=Log&logNo=222319762717',\n",
       " 'https://blog.naver.com/arumdri450?Redirect=Log&logNo=222317178530',\n",
       " 'https://blog.naver.com/feel_good_j?Redirect=Log&logNo=222313073865',\n",
       " 'https://blog.naver.com/khn8917?Redirect=Log&logNo=222314779585',\n",
       " 'https://blog.naver.com/3768446?Redirect=Log&logNo=222313306612',\n",
       " 'https://blog.naver.com/wlsl_kim?Redirect=Log&logNo=222340545296',\n",
       " 'https://blog.naver.com/onlyhw2?Redirect=Log&logNo=222278445482',\n",
       " 'https://blog.naver.com/ae741963?Redirect=Log&logNo=222280147791',\n",
       " 'https://blog.naver.com/vkmjv86?Redirect=Log&logNo=222317215117',\n",
       " 'https://blog.naver.com/jjmmyy0930?Redirect=Log&logNo=222319506069',\n",
       " 'https://blog.naver.com/dmisg?Redirect=Log&logNo=222321442726',\n",
       " 'https://blog.naver.com/onlyhw2?Redirect=Log&logNo=222290332513',\n",
       " 'https://blog.naver.com/dkrtns12?Redirect=Log&logNo=222236134438',\n",
       " 'https://blog.naver.com/officer34?Redirect=Log&logNo=222320900390',\n",
       " 'https://blog.naver.com/anjanjajaj?Redirect=Log&logNo=222255882877',\n",
       " 'https://blog.naver.com/ae741963?Redirect=Log&logNo=222287285278',\n",
       " 'https://blog.naver.com/lego8053?Redirect=Log&logNo=222340688566',\n",
       " 'https://blog.naver.com/i2dream?Redirect=Log&logNo=222294245652',\n",
       " 'https://blog.naver.com/lovemc123?Redirect=Log&logNo=222323284189',\n",
       " 'https://blog.naver.com/wjdwjwjd?Redirect=Log&logNo=222304696836',\n",
       " 'https://blog.naver.com/compass7979?Redirect=Log&logNo=222264387039',\n",
       " 'https://blog.naver.com/kwonheyoung?Redirect=Log&logNo=222340729306',\n",
       " 'https://blog.naver.com/compass7979?Redirect=Log&logNo=222318006515',\n",
       " 'https://blog.naver.com/ajw9508?Redirect=Log&logNo=222323542473',\n",
       " 'https://blog.naver.com/dusdn0905?Redirect=Log&logNo=222271454506',\n",
       " 'https://blog.naver.com/ljyjy9?Redirect=Log&logNo=222329841334',\n",
       " 'https://blog.naver.com/prince0198?Redirect=Log&logNo=222333771845',\n",
       " 'https://blog.daum.net/csmsjy/7092861',\n",
       " 'https://blog.naver.com/compass7979?Redirect=Log&logNo=222308706194',\n",
       " 'https://blog.naver.com/rlawndud1541?Redirect=Log&logNo=222248884655',\n",
       " 'https://blog.naver.com/ya88462?Redirect=Log&logNo=222302646055',\n",
       " 'https://blog.naver.com/kwangii?Redirect=Log&logNo=222286851238',\n",
       " 'https://blog.naver.com/cchhoo0907?Redirect=Log&logNo=222338678822',\n",
       " 'https://blog.naver.com/kkastj?Redirect=Log&logNo=222333446712',\n",
       " 'https://blog.naver.com/tnrud0870?Redirect=Log&logNo=222287398666',\n",
       " 'https://blog.naver.com/djmanul?Redirect=Log&logNo=222257221107',\n",
       " 'https://blog.naver.com/vkmjv86?Redirect=Log&logNo=222328103832',\n",
       " 'https://blog.naver.com/pro1360?Redirect=Log&logNo=222333412091',\n",
       " 'https://blog.naver.com/arta99?Redirect=Log&logNo=222325115603',\n",
       " 'https://blog.naver.com/oki820119?Redirect=Log&logNo=222341019547',\n",
       " 'https://blog.naver.com/hhslover1?Redirect=Log&logNo=222260943152',\n",
       " 'https://blog.naver.com/seonzzang12?Redirect=Log&logNo=222312230968',\n",
       " 'https://blog.naver.com/entz94?Redirect=Log&logNo=222291991616',\n",
       " 'https://blog.naver.com/silverilea?Redirect=Log&logNo=222325956987',\n",
       " 'https://blog.naver.com/jbl0725?Redirect=Log&logNo=222340861690',\n",
       " 'https://blog.naver.com/ggoma333?Redirect=Log&logNo=222333423925',\n",
       " 'https://blog.naver.com/arta99?Redirect=Log&logNo=222322142845',\n",
       " 'https://blog.naver.com/chu111333?Redirect=Log&logNo=222341003929',\n",
       " 'https://blog.naver.com/sdp1203?Redirect=Log&logNo=222335582870',\n",
       " 'https://blog.naver.com/manysun87?Redirect=Log&logNo=222330643103',\n",
       " 'https://blog.naver.com/ekdms8675?Redirect=Log&logNo=222332459552',\n",
       " 'https://blog.naver.com/surgepikachu?Redirect=Log&logNo=222337641767',\n",
       " 'https://blog.naver.com/qhfk8300?Redirect=Log&logNo=222339345510',\n",
       " 'https://blog.naver.com/fkeldh1004?Redirect=Log&logNo=222322831528',\n",
       " 'https://blog.naver.com/arta99?Redirect=Log&logNo=222318443716',\n",
       " 'https://blog.naver.com/hae4257?Redirect=Log&logNo=222336970904',\n",
       " 'https://blog.naver.com/hyungja1759?Redirect=Log&logNo=222329224052',\n",
       " 'https://blog.naver.com/best8945?Redirect=Log&logNo=222340281305',\n",
       " 'https://blog.naver.com/ghqkrdhkdwk?Redirect=Log&logNo=222324735829',\n",
       " 'https://blog.naver.com/tnrud0870?Redirect=Log&logNo=222272351229',\n",
       " 'https://blog.naver.com/tyhvfr?Redirect=Log&logNo=222328182698',\n",
       " 'https://blog.naver.com/hyewon_0414?Redirect=Log&logNo=222326180628',\n",
       " 'https://blog.naver.com/dscom335?Redirect=Log&logNo=222340172223',\n",
       " 'https://blog.naver.com/green_jy0222?Redirect=Log&logNo=222328565199',\n",
       " 'https://blog.naver.com/avara?Redirect=Log&logNo=222239567219',\n",
       " 'https://blog.naver.com/dscom335?Redirect=Log&logNo=222340222849',\n",
       " 'https://blog.naver.com/surgepikachu?Redirect=Log&logNo=222337032753',\n",
       " 'https://blog.naver.com/santal___?Redirect=Log&logNo=222338132412',\n",
       " 'https://blog.naver.com/seonzzang12?Redirect=Log&logNo=222266347352',\n",
       " 'https://blog.naver.com/go_starlight?Redirect=Log&logNo=222340780089',\n",
       " 'https://blog.naver.com/mihwaaa?Redirect=Log&logNo=222322144920',\n",
       " 'https://blog.naver.com/dbqhfka518?Redirect=Log&logNo=222332629284',\n",
       " 'https://blog.naver.com/love7love123?Redirect=Log&logNo=222329879397',\n",
       " 'https://blog.naver.com/yonflower916?Redirect=Log&logNo=222324681592',\n",
       " 'https://blog.naver.com/khej96?Redirect=Log&logNo=222338514028',\n",
       " 'https://blog.naver.com/jinlove307?Redirect=Log&logNo=222322452556',\n",
       " 'https://blog.naver.com/nc91444?Redirect=Log&logNo=222332055390',\n",
       " 'https://blog.naver.com/dkdlstl?Redirect=Log&logNo=222334826456',\n",
       " 'https://blog.naver.com/nolamanal?Redirect=Log&logNo=222328343070',\n",
       " 'https://blog.naver.com/gosem66?Redirect=Log&logNo=222334723250',\n",
       " 'https://blog.naver.com/rudal4717?Redirect=Log&logNo=222333670053',\n",
       " 'https://blog.naver.com/lego8053?Redirect=Log&logNo=222321806878',\n",
       " 'https://blog.naver.com/legojoo?Redirect=Log&logNo=222326737607',\n",
       " 'https://blog.naver.com/gt1889?Redirect=Log&logNo=222292832603',\n",
       " 'https://blog.naver.com/tjsktjsk404?Redirect=Log&logNo=222329914980',\n",
       " 'https://blog.naver.com/sowh314?Redirect=Log&logNo=222333859269',\n",
       " 'https://blog.naver.com/odeett?Redirect=Log&logNo=222297384869',\n",
       " 'https://blog.naver.com/noljass?Redirect=Log&logNo=222339099047',\n",
       " 'https://blog.naver.com/sso223?Redirect=Log&logNo=222340694401',\n",
       " 'https://blog.naver.com/jinlove307?Redirect=Log&logNo=222320470244',\n",
       " 'https://blog.naver.com/newkjm84?Redirect=Log&logNo=222326314920',\n",
       " 'https://blog.naver.com/qktiqkti4865?Redirect=Log&logNo=222261841626',\n",
       " 'https://blog.naver.com/hanjw0316?Redirect=Log&logNo=222336120163',\n",
       " 'https://blog.naver.com/salii42?Redirect=Log&logNo=222328670127',\n",
       " 'https://blog.naver.com/dmisg?Redirect=Log&logNo=222321426531',\n",
       " 'https://blog.naver.com/gcumd23?Redirect=Log&logNo=222333848662',\n",
       " 'https://blog.naver.com/qhdud9599?Redirect=Log&logNo=222336050317',\n",
       " 'https://blog.naver.com/amadeusjm?Redirect=Log&logNo=222336116885',\n",
       " 'https://blog.naver.com/qmp486?Redirect=Log&logNo=222327660869',\n",
       " 'https://blog.naver.com/jihye8927?Redirect=Log&logNo=222279236862',\n",
       " 'https://blog.naver.com/enn7715?Redirect=Log&logNo=222339357667',\n",
       " 'https://blog.naver.com/tjsktjsk404?Redirect=Log&logNo=222322338634',\n",
       " 'https://blog.naver.com/qhrud5574?Redirect=Log&logNo=222334360221',\n",
       " 'https://blog.naver.com/pink7113?Redirect=Log&logNo=222336113536',\n",
       " 'https://blog.naver.com/haning0701?Redirect=Log&logNo=222336425471',\n",
       " 'https://blog.naver.com/wlguis12?Redirect=Log&logNo=222335148132',\n",
       " 'https://blog.naver.com/cchhoo0907?Redirect=Log&logNo=222340407456',\n",
       " 'https://blog.naver.com/jisoo5149?Redirect=Log&logNo=222306654779']"
      ]
     },
     "execution_count": 30,
     "metadata": {},
     "output_type": "execute_result"
    }
   ],
   "source": [
    "url_list"
   ]
  },
  {
   "cell_type": "code",
   "execution_count": 86,
   "metadata": {
    "scrolled": true
   },
   "outputs": [
    {
     "data": {
      "text/plain": [
       "['구수했던 대전 맛집 모음',\n",
       " '강렬했던 # 대전 맛집 모음',\n",
       " '꼭 가봐야할 대전 맛집 리스트',\n",
       " '군침 나온 대전 맛집 공유',\n",
       " '이제야 알아간 대전 맛집 목록',\n",
       " '식욕 폭발했던 대전 맛집 리스트',\n",
       " '[곱창맛집 & 대전맛집 - 군자대한곱창 대전엑스포점]',\n",
       " '인정했던 대전 맛집 리스트',\n",
       " '자꾸 생각나는 대전 맛집 모음',\n",
       " '정성이 깃든 대전맛집 공유',\n",
       " '임팩트 대단한 대전 맛집 리스트',\n",
       " '강렬했던 대전 맛집 소개',\n",
       " '단골이된 대전 맛집 모음',\n",
       " \"대전 맛집 '현대식당', 대흥동 닭볶음탕 노포 맛집\",\n",
       " '대전맛집 보문산 반찬식당 보리밥 (feat. 씨앗호떡)',\n",
       " '초밥이 맛있는 대전맛집',\n",
       " '대전맛집 대게요리맛집 크래버대게나라둔산점 가성비 짱',\n",
       " '대전맛집)서대전역맛집 소담회',\n",
       " '갈마동 족발 맛집, 레트로 분위기 물씬풍기는 대전맛집 대광족',\n",
       " \"(대전맛집) 대전 육사시미 맛집 '태평소국밥'\",\n",
       " '대전맛집 대동오거리 신선칼국수 매장 후기 + 배달 후기',\n",
       " '대전 맛집 반찬이 푸짐한 월평동 태능돌삼겹',\n",
       " '명랑식당,삼성동맛집,대전맛집,육개장맛집',\n",
       " '대전 맛집 @포트 키친(port kitchen) 신상 맛집 대만족♥',\n",
       " '선화동맛집, 대성집, since 1974 전통의 대전맛집',\n",
       " '대전 맛집 남도항아리 후기',\n",
       " '대전 맛집 ㅣ 광천식당 오징어 두루치기, 칼국수 ♥',\n",
       " '대전 맛집 애슐리퀸즈 집에서 즐기는 홈파티음식 방문포장',\n",
       " '대전맛집/원조\"바로그집\"본점/아이스크림떡볶이/대전역우동국수',\n",
       " '#대전맛집 탄방동 대만음식점<바오바뮐러>',\n",
       " '현주민이 찾는 대전맛집 태평소국밥',\n",
       " '[대전맛집] 내돈내산/ 광천식당 두부두루치기&수육',\n",
       " \"대전 맛집 - '서울촌놈' 추천 맛집 천복순대국밥\",\n",
       " '대전가볼만한곳,대전카페,대전맛집,대전데이트추천',\n",
       " '<대전맛집,치킨맛집> 대전 오류동 키로치킨 리뷰',\n",
       " '대전 맛집 꼭 가야하는 식당 대선칼국수',\n",
       " '대전맛집) 가수원동 중식당 \"각 \"',\n",
       " '대전맛집 추천 : 판암동 맛집 대전밀면 가성비 +맛 대박♡',\n",
       " '뜨끈한 대전 맛집 리스트 3 국밥 먹으러 고고!',\n",
       " '대전 맛집 감자바위골. 문창 전통시장 맛집인데 현지인...',\n",
       " '대전 맛집 예담추어정 추어탕 그대로 담았습니다. 유명 맛집...',\n",
       " '대전 미소본가 스마일칼국수... 백종원 맛집 : 대전 맛집...',\n",
       " '[대전 맛집의 정석 1탄] 담양애떡갈비(돼지갈비), 커피땅거미...',\n",
       " '대전맛집 - 할매 옹심이 메밀 칼국수 & 메밀회막국수',\n",
       " '[대전 맛집] 흑산도회',\n",
       " '대전맛집 한남대맛집 신화신가네매운떡볶이 배달 후기',\n",
       " '대전 맛집 산성동 전집 또 올래',\n",
       " '[대전 맛집] 대흥동 월산본가 본점 : 잘 구워져 나오는 LA소...',\n",
       " '복사꽃피는집 대전점 낙지볶음 & 고르곤졸라 ft. 대전맛집...',\n",
       " '대전 맛집 복사꽃피는집 쭈꾸미볶음',\n",
       " '#대전맛집 용전동 <논골집 대전점>',\n",
       " '대전 맛집 스마일 찹쌀 꽈배기 팥고로케 치즈고로케 벤토...',\n",
       " '[대전밥집]두부두루치기 대전맛집 진로집',\n",
       " '대전맛집 대전 슈바인학센 이태리다홍',\n",
       " '대전맛집, 유성구맛집, 봉명동맛집, 만나한우복수집',\n",
       " '[대전 맛집] 유성 레스토랑 3MK',\n",
       " '대전 맛집 둔산동 60년전통 대선칼국수',\n",
       " '대전맛집♪ 유성 태평소국밥 따로국밥 맛있어요 엄지척',\n",
       " \"대전 맛집ㅣ'신선한우마을' 한우 소고기 가수원동 맛집\",\n",
       " '대전맛집 대흥동맛집 석갈비 월산본가',\n",
       " '[대전 맛집] 생어거스틴 대전... 맛있는 태국 음식 맛집',\n",
       " '대전 성심당♪ 성심당 롯데백화점대전점 대전맛집 성심당...',\n",
       " '<대전맛집,통닭맛집> 대전 유천동 부여통닭',\n",
       " '이모님좋았던 대전맛집-별난집/두부두루치기',\n",
       " '#대전맛집 자양동 포트<PORT>',\n",
       " '[대전맛집] 대전역 원동 물총 칼국수 맛집 : 오씨칼국수',\n",
       " '대전맛집 한멘뚝배기',\n",
       " '대전맛집추천 비래키키',\n",
       " '대전맛집, 오리수육/오리탕이... 감나무집 (서울촌놈 박세리 맛집)',\n",
       " '[대전맛집] 대전 대흥동 맛집, 동원식당 황태해장국 (21.03.31)',\n",
       " '<대전맛집,칼국수맛집> 대전 은행동 공주칼국수',\n",
       " '대전 맛집 제가 여러분들에게 보여드리고 싶은 곳',\n",
       " '[대전맛집]어두리',\n",
       " \"대전 맛집ㅣ유성 '아웃백' 스테이크 하우스, 블랙라벨 셰프...\",\n",
       " '#대전맛집 은행동 <소싯적>',\n",
       " '[대전맛집/현충원맛집]감칠맛 나는 양념과 불맛이 일품이...',\n",
       " \"대전 맛집ㅣ둔산동 '대선칼국수' 두부두루치기 칼국수 맛집\",\n",
       " '동학사 맛집 대전 맛집 공주 맛집 대전한정식 솔반 방문 후기',\n",
       " '[대전맛집]테판마루(feat.철판요리)',\n",
       " '[대전맛집] 가격도 착한데 맛도 있는 괴곡동 맛집 장수오리...',\n",
       " '대전맛집 봉명동맛집 대손관 후기',\n",
       " '대전 맛집: 광천식당',\n",
       " '[대전 맛집] 건강한 한끼 식사 둥지톳밥에서 푸짐한 정식 즐기기',\n",
       " '#대전맛집 은행동 <동그라미>',\n",
       " '솔밭 묵집, 닭볶음탕 맛집, 대전 맛집, 신탄진 맛집',\n",
       " '대전맛집 진로집 두부두루치기랑 수육이 존맛탱',\n",
       " '<대전맛집,통닭맛집> 대전 탄방동 부여통닭, 창민아...',\n",
       " '대전맛집(진짜) - 태평소국밥',\n",
       " '대전맛집, 유성구맛집, 노은동맛집, 쭈꾸미맛집, 신화수산',\n",
       " '대전맛집, 동구맛집, 가양동맛집, 생대구탕맛집, 예성활어회',\n",
       " '대전맛집 대젓소머리국밥 칭찬해',\n",
       " '대전디저트카페,대전햇살맛집,대전가볼만한곳,대전맛집',\n",
       " '대전 맛집 다둥이네 아들셋 집밥 뷰맛집',\n",
       " '[대전맛집]이설옥(feat.진주냉면)',\n",
       " '대전 맛집 진로집 두부두루치기 대전 소주 린 / 내돈내산 낮술...',\n",
       " '대전 맛집 이차돌 차돌삼겹 해산물몽땅 쫄면',\n",
       " '대전맛집, 유성구맛집, 노은동맛집, 짬뽕맛집, 요기루',\n",
       " '칼칼한 선지해장국 대전 맛집 -- 진잠네거리 신가네 해장국',\n",
       " '부드러운 맛 족발 대전 맛집 --- 심야족발',\n",
       " '마늘의 맛집탐방 대구맛집, 대전맛집 프리뷰 (부제 맛술신잡)',\n",
       " '[대전맛집/대전카페] #요상한집 #하이드아웃',\n",
       " '대전맛집 유림식당',\n",
       " '대전 맛집 육교회관에서 몸보신했어요 메뉴 및 가격!',\n",
       " '[대전맛집]뜨랑한우',\n",
       " \"칼칼한게 땡길적이면 늘 가는 대전 맛집 '착한낙지'\",\n",
       " '[대전맛집/대전카페] #마르디 #카페일인칭',\n",
       " '대전맛집 광천식당',\n",
       " '대전맛집/홍곱창(봉명동)',\n",
       " '[대전/맛집] 돈가스랑 카레 좋아하눈 싸람 ~~~ 일이공생돈까스로 !',\n",
       " '대전맛집 본미당 메뉴 및 가격 / 내돈내산 솔직후기',\n",
       " '대전 맛집 리뷰 - 태평소국밥',\n",
       " '대전맛집/복사꽃피는집(계산동)',\n",
       " '[대전맛집] 성심당의 고장이 대전이라면서요? 대전의 시그니쳐...',\n",
       " '[대전맛집]둔산동맛집 _해쉬(Hash)',\n",
       " '대전맛집추천 진로집',\n",
       " '대전가볼만한곳,대전맛집,대전디저트맛집,대전크로플맛집...',\n",
       " '올갱이국맛집 내집식당 대전맛집 장금이수육 닭도리탕 일품이다',\n",
       " '대전 문화동 : 소바노하나 /일식/소바맛집/대전맛집',\n",
       " '[대전/맛집] 딤섬 맛집 부연부',\n",
       " \"[대전/맛집] 줄서서 먹는 둔산동 스테이크 맛집 '미도인 둔산점'\",\n",
       " '대전 맛집! <스바라시 라멘>',\n",
       " '✔️대전 맛집✔️공오삼막창',\n",
       " '[대전맛집] 해팔이네 포차 술한잔',\n",
       " '[ 대전맛집 / 삼성동 ] 할머니가 애정하는 손칼국수 현지인맛집...',\n",
       " '대전 탄방동 : 긴자료코 /서울3대 돈가쓰 맛집 /대전맛집',\n",
       " '대전맛집 생맥주 전문점?... 을지병원근처 세계 생맥주 맛집',\n",
       " '대전 맛집 : 탄방동 보리굴비 - 빛고을',\n",
       " '대전 덮덮밥 또 시켜먹을래 대전 맛집 인정이요',\n",
       " '✔️대전 맛집✔️갤러리아 초밥',\n",
       " '대전맛집 예담추어정 국내산 미꾸라지 추어탕 공구합니다.',\n",
       " '4월) 대전 맛집 리스트',\n",
       " '공주맛집 대전맛집 한식 다솜차반소서노',\n",
       " '[대전/맛집] 반석동 맛집 육수맛집 냄비요리_나베코이 반석점',\n",
       " '[대전맛집] 전통있는 냉면맛집 \"해주냉면\"',\n",
       " '대전맛집-대박!!!태평소국밥',\n",
       " '대전맛집 스페인261와인라운지 로켓3 축하드립니다',\n",
       " '[대전맛집] 문화동 브런치 카페 [카페범스]',\n",
       " '대전맛집/권인순갈비김치찌개(노은동)',\n",
       " '대전맛집, 대흥동데이트 : 스시쿠루마, 하이드아웃',\n",
       " '대전맛집 둔산동여진족(대전족발맛집)',\n",
       " '[이비가짬뽕]-대전맛집',\n",
       " '대전 문지동 맛집_소바공방... 줄서서먹는 대전 맛집!',\n",
       " '대전맛집 태평소국밥 육사시미 솔직후기',\n",
       " '[대전맛집] 스시가 맛있는 카라마데 죽동맛집',\n",
       " '대전맛집/소문난주문진막국수(둔산동)',\n",
       " '[대전맛집] 두부 두루치기/오징어 두루치기 맛집 : 광천식당',\n",
       " '[반석동맛집] 대전맛집 무라텐 텐동 강추!!!',\n",
       " '대전맛집/서구맛집/정림동맛집/송가네닭발/닭발/두루치기맛집...',\n",
       " '[ 대전 맛집 ] 현대 아울렛 식당 추천 콘타이',\n",
       " '대전맛집 관저동 진품돼지 삼겹살/늑간살구이맛집...',\n",
       " '[대전] 대전 맛집/대전 전미원/대전 유성구 전민동 맛집/대전...',\n",
       " '대전맛집 인정쭈꾸미 최고',\n",
       " '대전 맛집 1984그수육집칼국수를 소개합니다',\n",
       " '[대전맛집] 따끈한 국물이 땡길 땐 나베코이 반석',\n",
       " '[대전맛집] 맛찬들 관저점',\n",
       " '<대전 맛집 추천>건강한 프로틴 빵 & 음료가 있는 \"일빵집\" 납품...',\n",
       " '대전 맛집 연이지카야',\n",
       " '대전맛집 태평소국밥 + 오씨칼국수 후기',\n",
       " '대전 맛집 추천, 서구 도마동 갑돌갈비',\n",
       " '[대전맛집/대전카페] #오쩜오닭갈비 #데일리오아시스',\n",
       " '대전맛집 / 관평동맛집 :: 관평동 맛찬들',\n",
       " '[대전맛집] 층고가 높은 브런치카페 루트비 ROOT;B',\n",
       " '[대전맛집]준짜장 추천 후기',\n",
       " '대전 맛집 여기 꼭 가야해 내돈내산 태평소국밥 강추',\n",
       " '[대전맛집] 노은 유성갈비 (#목살맛집 #분위기맛집)',\n",
       " '대전맛집 관저동술집 2차3차... 대전딱새우회맛집 생참치...',\n",
       " '대전맛집/늘상상(봉명동)',\n",
       " '문화동 맛집 인생짬뽕 대전 고추짜장 매콤하고 맛있는 대전 맛집',\n",
       " '대전맛집 수통골감나무집 오리수육',\n",
       " '대전맛집_칸스테이크하우스',\n",
       " '[대전 맛집] 반석동 일식집 카쿠레바',\n",
       " '1박2일 대전여행/대전 가볼만한곳/대전 맛집/대전 카페',\n",
       " '대전맛집) 내가 대전이 좋은 이유, 태평소국밥',\n",
       " '대전맛집/둔산동맛집/대전돈까스/둔산동돈까스/둔산동동백가츠...',\n",
       " '<대전 맛집>괴정동 \"나무오향족발\"',\n",
       " '리뷰 :: 대전맛집 새콤달콤매콤 맛이 일품인 [ 대전밀면 ]',\n",
       " '[대전맛집] 대전 서구 둔산동 소복담다',\n",
       " '관평동 마카롱 현대프리미엄아울렛 대전 맛집 로이스윗은...',\n",
       " '대전맛집추천\"오씨칼국수\" 다녀왔어요 ~!',\n",
       " '대전맛집 물냉면,갈비탕맛있는 양반고을다녀왔어요']"
      ]
     },
     "execution_count": 86,
     "metadata": {},
     "output_type": "execute_result"
    }
   ],
   "source": [
    "title_list"
   ]
  },
  {
   "cell_type": "code",
   "execution_count": 31,
   "metadata": {
    "scrolled": true
   },
   "outputs": [
    {
     "data": {
      "text/html": [
       "<div>\n",
       "<style scoped>\n",
       "    .dataframe tbody tr th:only-of-type {\n",
       "        vertical-align: middle;\n",
       "    }\n",
       "\n",
       "    .dataframe tbody tr th {\n",
       "        vertical-align: top;\n",
       "    }\n",
       "\n",
       "    .dataframe thead th {\n",
       "        text-align: right;\n",
       "    }\n",
       "</style>\n",
       "<table border=\"1\" class=\"dataframe\">\n",
       "  <thead>\n",
       "    <tr style=\"text-align: right;\">\n",
       "      <th></th>\n",
       "      <th>url</th>\n",
       "      <th>title</th>\n",
       "    </tr>\n",
       "  </thead>\n",
       "  <tbody>\n",
       "    <tr>\n",
       "      <th>0</th>\n",
       "      <td>https://blog.naver.com/jinmylove?Redirect=Log&amp;...</td>\n",
       "      <td>구수했던 대전 맛집 모음</td>\n",
       "    </tr>\n",
       "    <tr>\n",
       "      <th>1</th>\n",
       "      <td>https://blog.naver.com/jin3641?Redirect=Log&amp;lo...</td>\n",
       "      <td>강렬했던 # 대전 맛집 모음</td>\n",
       "    </tr>\n",
       "    <tr>\n",
       "      <th>2</th>\n",
       "      <td>https://blog.naver.com/sooya1127?Redirect=Log&amp;...</td>\n",
       "      <td>꼭 가봐야할 대전 맛집 리스트</td>\n",
       "    </tr>\n",
       "    <tr>\n",
       "      <th>3</th>\n",
       "      <td>https://blog.naver.com/two-park?Redirect=Log&amp;l...</td>\n",
       "      <td>또 가고픈 @ 대전 맛집 소개</td>\n",
       "    </tr>\n",
       "    <tr>\n",
       "      <th>4</th>\n",
       "      <td>https://blog.naver.com/lovegpop?Redirect=Log&amp;l...</td>\n",
       "      <td>이제야 알아간 대전 맛집 목록</td>\n",
       "    </tr>\n",
       "    <tr>\n",
       "      <th>...</th>\n",
       "      <td>...</td>\n",
       "      <td>...</td>\n",
       "    </tr>\n",
       "    <tr>\n",
       "      <th>175</th>\n",
       "      <td>https://blog.naver.com/pink7113?Redirect=Log&amp;l...</td>\n",
       "      <td>은행동 초밥, 대전 맛집,대전신상맛집/대전 은행동 행복유부초밥</td>\n",
       "    </tr>\n",
       "    <tr>\n",
       "      <th>176</th>\n",
       "      <td>https://blog.naver.com/haning0701?Redirect=Log...</td>\n",
       "      <td>그림일기 - 꽃일상, 대전맛집 피제리아614</td>\n",
       "    </tr>\n",
       "    <tr>\n",
       "      <th>177</th>\n",
       "      <td>https://blog.naver.com/wlguis12?Redirect=Log&amp;l...</td>\n",
       "      <td>[대전맛집] 관평동맛집 관들로집 다녀온 후기!! 여기가 바로...</td>\n",
       "    </tr>\n",
       "    <tr>\n",
       "      <th>178</th>\n",
       "      <td>https://blog.naver.com/cchhoo0907?Redirect=Log...</td>\n",
       "      <td>대전맛집 보리고개칼국수 일상</td>\n",
       "    </tr>\n",
       "    <tr>\n",
       "      <th>179</th>\n",
       "      <td>https://blog.naver.com/jisoo5149?Redirect=Log&amp;...</td>\n",
       "      <td>대전 덮덮밥 또 시켜먹을래 대전 맛집 인정이요</td>\n",
       "    </tr>\n",
       "  </tbody>\n",
       "</table>\n",
       "<p>180 rows × 2 columns</p>\n",
       "</div>"
      ],
      "text/plain": [
       "                                                   url  \\\n",
       "0    https://blog.naver.com/jinmylove?Redirect=Log&...   \n",
       "1    https://blog.naver.com/jin3641?Redirect=Log&lo...   \n",
       "2    https://blog.naver.com/sooya1127?Redirect=Log&...   \n",
       "3    https://blog.naver.com/two-park?Redirect=Log&l...   \n",
       "4    https://blog.naver.com/lovegpop?Redirect=Log&l...   \n",
       "..                                                 ...   \n",
       "175  https://blog.naver.com/pink7113?Redirect=Log&l...   \n",
       "176  https://blog.naver.com/haning0701?Redirect=Log...   \n",
       "177  https://blog.naver.com/wlguis12?Redirect=Log&l...   \n",
       "178  https://blog.naver.com/cchhoo0907?Redirect=Log...   \n",
       "179  https://blog.naver.com/jisoo5149?Redirect=Log&...   \n",
       "\n",
       "                                    title  \n",
       "0                           구수했던 대전 맛집 모음  \n",
       "1                         강렬했던 # 대전 맛집 모음  \n",
       "2                        꼭 가봐야할 대전 맛집 리스트  \n",
       "3                        또 가고픈 @ 대전 맛집 소개  \n",
       "4                        이제야 알아간 대전 맛집 목록  \n",
       "..                                    ...  \n",
       "175    은행동 초밥, 대전 맛집,대전신상맛집/대전 은행동 행복유부초밥  \n",
       "176              그림일기 - 꽃일상, 대전맛집 피제리아614  \n",
       "177  [대전맛집] 관평동맛집 관들로집 다녀온 후기!! 여기가 바로...  \n",
       "178                       대전맛집 보리고개칼국수 일상  \n",
       "179             대전 덮덮밥 또 시켜먹을래 대전 맛집 인정이요  \n",
       "\n",
       "[180 rows x 2 columns]"
      ]
     },
     "execution_count": 31,
     "metadata": {},
     "output_type": "execute_result"
    }
   ],
   "source": [
    "df = pd.DataFrame({'url':url_list, 'title':title_list})\n",
    "df"
   ]
  },
  {
   "cell_type": "code",
   "execution_count": 32,
   "metadata": {
    "scrolled": true
   },
   "outputs": [
    {
     "data": {
      "text/plain": [
       "'C:\\\\Users\\\\11\\\\Desktop\\\\수업자료\\\\모듈 2-3. 크롤러'"
      ]
     },
     "execution_count": 32,
     "metadata": {},
     "output_type": "execute_result"
    }
   ],
   "source": [
    "pwd"
   ]
  },
  {
   "cell_type": "code",
   "execution_count": 33,
   "metadata": {},
   "outputs": [],
   "source": [
    "# 저장하기\n",
    "df.to_excel(\"blog_url.xlsx\")"
   ]
  },
  {
   "cell_type": "markdown",
   "metadata": {},
   "source": [
    "# 블로그 내용 크롤링하기"
   ]
  },
  {
   "cell_type": "code",
   "execution_count": 34,
   "metadata": {},
   "outputs": [],
   "source": [
    "import sys\n",
    "import os\n",
    "import pandas as pd\n",
    "import numpy as np"
   ]
  },
  {
   "cell_type": "code",
   "execution_count": 35,
   "metadata": {
    "scrolled": true
   },
   "outputs": [
    {
     "name": "stdout",
     "output_type": "stream",
     "text": [
      "180\n"
     ]
    },
    {
     "data": {
      "text/html": [
       "<div>\n",
       "<style scoped>\n",
       "    .dataframe tbody tr th:only-of-type {\n",
       "        vertical-align: middle;\n",
       "    }\n",
       "\n",
       "    .dataframe tbody tr th {\n",
       "        vertical-align: top;\n",
       "    }\n",
       "\n",
       "    .dataframe thead th {\n",
       "        text-align: right;\n",
       "    }\n",
       "</style>\n",
       "<table border=\"1\" class=\"dataframe\">\n",
       "  <thead>\n",
       "    <tr style=\"text-align: right;\">\n",
       "      <th></th>\n",
       "      <th>Unnamed: 0</th>\n",
       "      <th>url</th>\n",
       "      <th>title</th>\n",
       "    </tr>\n",
       "  </thead>\n",
       "  <tbody>\n",
       "    <tr>\n",
       "      <th>0</th>\n",
       "      <td>0</td>\n",
       "      <td>https://blog.naver.com/jinmylove?Redirect=Log&amp;...</td>\n",
       "      <td>구수했던 대전 맛집 모음</td>\n",
       "    </tr>\n",
       "    <tr>\n",
       "      <th>1</th>\n",
       "      <td>1</td>\n",
       "      <td>https://blog.naver.com/jin3641?Redirect=Log&amp;lo...</td>\n",
       "      <td>강렬했던 # 대전 맛집 모음</td>\n",
       "    </tr>\n",
       "    <tr>\n",
       "      <th>2</th>\n",
       "      <td>2</td>\n",
       "      <td>https://blog.naver.com/sooya1127?Redirect=Log&amp;...</td>\n",
       "      <td>꼭 가봐야할 대전 맛집 리스트</td>\n",
       "    </tr>\n",
       "    <tr>\n",
       "      <th>3</th>\n",
       "      <td>3</td>\n",
       "      <td>https://blog.naver.com/two-park?Redirect=Log&amp;l...</td>\n",
       "      <td>또 가고픈 @ 대전 맛집 소개</td>\n",
       "    </tr>\n",
       "    <tr>\n",
       "      <th>4</th>\n",
       "      <td>4</td>\n",
       "      <td>https://blog.naver.com/lovegpop?Redirect=Log&amp;l...</td>\n",
       "      <td>이제야 알아간 대전 맛집 목록</td>\n",
       "    </tr>\n",
       "    <tr>\n",
       "      <th>...</th>\n",
       "      <td>...</td>\n",
       "      <td>...</td>\n",
       "      <td>...</td>\n",
       "    </tr>\n",
       "    <tr>\n",
       "      <th>175</th>\n",
       "      <td>175</td>\n",
       "      <td>https://blog.naver.com/pink7113?Redirect=Log&amp;l...</td>\n",
       "      <td>은행동 초밥, 대전 맛집,대전신상맛집/대전 은행동 행복유부초밥</td>\n",
       "    </tr>\n",
       "    <tr>\n",
       "      <th>176</th>\n",
       "      <td>176</td>\n",
       "      <td>https://blog.naver.com/haning0701?Redirect=Log...</td>\n",
       "      <td>그림일기 - 꽃일상, 대전맛집 피제리아614</td>\n",
       "    </tr>\n",
       "    <tr>\n",
       "      <th>177</th>\n",
       "      <td>177</td>\n",
       "      <td>https://blog.naver.com/wlguis12?Redirect=Log&amp;l...</td>\n",
       "      <td>[대전맛집] 관평동맛집 관들로집 다녀온 후기!! 여기가 바로...</td>\n",
       "    </tr>\n",
       "    <tr>\n",
       "      <th>178</th>\n",
       "      <td>178</td>\n",
       "      <td>https://blog.naver.com/cchhoo0907?Redirect=Log...</td>\n",
       "      <td>대전맛집 보리고개칼국수 일상</td>\n",
       "    </tr>\n",
       "    <tr>\n",
       "      <th>179</th>\n",
       "      <td>179</td>\n",
       "      <td>https://blog.naver.com/jisoo5149?Redirect=Log&amp;...</td>\n",
       "      <td>대전 덮덮밥 또 시켜먹을래 대전 맛집 인정이요</td>\n",
       "    </tr>\n",
       "  </tbody>\n",
       "</table>\n",
       "<p>180 rows × 3 columns</p>\n",
       "</div>"
      ],
      "text/plain": [
       "     Unnamed: 0                                                url  \\\n",
       "0             0  https://blog.naver.com/jinmylove?Redirect=Log&...   \n",
       "1             1  https://blog.naver.com/jin3641?Redirect=Log&lo...   \n",
       "2             2  https://blog.naver.com/sooya1127?Redirect=Log&...   \n",
       "3             3  https://blog.naver.com/two-park?Redirect=Log&l...   \n",
       "4             4  https://blog.naver.com/lovegpop?Redirect=Log&l...   \n",
       "..          ...                                                ...   \n",
       "175         175  https://blog.naver.com/pink7113?Redirect=Log&l...   \n",
       "176         176  https://blog.naver.com/haning0701?Redirect=Log...   \n",
       "177         177  https://blog.naver.com/wlguis12?Redirect=Log&l...   \n",
       "178         178  https://blog.naver.com/cchhoo0907?Redirect=Log...   \n",
       "179         179  https://blog.naver.com/jisoo5149?Redirect=Log&...   \n",
       "\n",
       "                                    title  \n",
       "0                           구수했던 대전 맛집 모음  \n",
       "1                         강렬했던 # 대전 맛집 모음  \n",
       "2                        꼭 가봐야할 대전 맛집 리스트  \n",
       "3                        또 가고픈 @ 대전 맛집 소개  \n",
       "4                        이제야 알아간 대전 맛집 목록  \n",
       "..                                    ...  \n",
       "175    은행동 초밥, 대전 맛집,대전신상맛집/대전 은행동 행복유부초밥  \n",
       "176              그림일기 - 꽃일상, 대전맛집 피제리아614  \n",
       "177  [대전맛집] 관평동맛집 관들로집 다녀온 후기!! 여기가 바로...  \n",
       "178                       대전맛집 보리고개칼국수 일상  \n",
       "179             대전 덮덮밥 또 시켜먹을래 대전 맛집 인정이요  \n",
       "\n",
       "[180 rows x 3 columns]"
      ]
     },
     "execution_count": 35,
     "metadata": {},
     "output_type": "execute_result"
    }
   ],
   "source": [
    "# \"url_list.csv\" 불러오기\n",
    "url_load = pd.read_excel(\"blog_url.xlsx\") # 기본 모델\n",
    "\n",
    "num_list = len(url_load)\n",
    "\n",
    "print(num_list)\n",
    "url_load"
   ]
  },
  {
   "cell_type": "code",
   "execution_count": 37,
   "metadata": {
    "scrolled": true
   },
   "outputs": [
    {
     "name": "stderr",
     "output_type": "stream",
     "text": [
      "<ipython-input-37-f309324243f4>:6: TqdmDeprecationWarning: This function will be removed in tqdm==5.0.0\n",
      "Please use `tqdm.notebook.tqdm` instead of `tqdm.tqdm_notebook`\n",
      "  for i in tqdm_notebook(range(0, number)):    # 0부터 30까지 반복되도록 세팅\n"
     ]
    },
    {
     "data": {
      "application/vnd.jupyter.widget-view+json": {
       "model_id": "f25165e3298047b689f03d58e7e9915e",
       "version_major": 2,
       "version_minor": 0
      },
      "text/plain": [
       "HBox(children=(HTML(value=''), FloatProgress(value=0.0, max=5.0), HTML(value='')))"
      ]
     },
     "metadata": {},
     "output_type": "display_data"
    },
    {
     "name": "stdout",
     "output_type": "stream",
     "text": [
      "0 구수했던 대전 맛집 모음\n",
      "1 강렬했던 # 대전 맛집 모음\n",
      "2 꼭 가봐야할 대전 맛집 리스트\n",
      "3 또 가고픈 @ 대전 맛집 소개\n",
      "4   이제야 알아간 대전 맛집 목록 \n",
      "\n",
      "수집한 글 갯수:  5\n",
      "{0: {'title': '구수했던 대전 맛집 모음', 'nickname': '에이미네\\n(jinmylove)', 'datetime': '2021. 4. 21. 10:10', 'content': '지난 주말 가족들과 장동산림욕장으로 힐링을 하러 갔다가 미리 찾아둔 대전 맛집에 다녀왔어요.\\n수준 높은 밑반찬과 구수한 두부전골을 푸짐하게 즐길 수 있었어요. 고기 품은 두부전골 (중) 29,000원 주소 : 대전 대덕구 계족로664번길 113\\n전화번호 : 042-625-3345\\n영업시간 : 매일 11:30 - 21:00\\nB.T 평일 15:00 - 17:00 주말 16:00 - 17:00\\n월요일 휴무 이번에 찾아간 매봉식당은 상수골어린이공원에서 차로 4분 거리였고 \\n건물에 걸린 갈색 간판에 상호가 또박또박 적혀 있어 쉽게 눈길을 끌었어요.\\n그리고 가게 길 건너 삼익소월아파트 주차장에 차를 댈 수 있어 자차를 이용하기에도 편리한 곳이었어요. 곧장 들어가본 실내는 화이트톤으로 꾸며져 있어 쾌적한 분위기가 돋보였어요.\\n홀에는 입식 테이블들이 놓여 있었는데 간격이 여유로워 이동하기 편리했어요. 안쪽에는 모임장소로 좋을만한 룸도 완비돼 있었어요.\\n칸막이로 공간을 분리할 수 있게 되어 있어 각종 모임장소로도 좋겠다 싶었습니다. 특히 대전 맛집은 2대째 22년간 전통을 이어오고 있는 곳이라 \\n이미 지역주민들에게도 정평이 나 있었어요. 또 홀에서 식사 뿐만 아니라 포장도 가능하니 참고하시면 좋을 것 같아요. 테이블 근처에는 일회용 앞치마도 준비되어 있었습니다.\\n여러모로 위생에 신경이 많이 쓰이는 만큼 다회용이 아니라 마음에 쏙 들었어요. 안내 받은 자리에 착석한 뒤 저희는 대표메뉴인 고기 품은 두부전골 중자로 선택했어요. 얼마 지나지 않아 밑반찬부터 차례로 테이블을 채워갔어요.\\n모든 음식들은 손수 만드신거라 집에서 엄마가 차려주시는 것 만큼 정갈함이 돋보였죠. 그중 대전 맛집의 무김치로 입맛을 돋우어봤어요.\\n시큼한 채즙이 단번에 속 깊은 곳까지 개운함을 전달해줬습니다. 그리고 물미역은 초장에 찍어 먹으니 전혀 비리지 않아 만족스러웠어요. 옆에 있던 상추겉절에서도 사장님의 정성 가득한 손맛이 느껴져 먹는 내내 미소가 절로 번졌죠. 또 다른 별미 중 하나였던 배추무침은 슴슴하게 간이 배어 있어 메인메뉴와도 잘 어울렸습니다. 게다가 샐러드에는 과일까지 들어 있었습니다.\\n달달한 마요네즈와의 궁합도 좋았고, 입가심용으로도 탁월해 손이 자주 갔어요. 뿐만 아니라 물도 생수로 제공해주셨던 대전 맛집이었어요.\\n여러모로 마음 놓고 식사할 수 있도록 배려해두신 모습에 제대로 대접 받는 기분이 들었습니다. 이어서 메인메뉴인 두부전골을 맛볼 차례였어요.\\n두툼하게 썰린 두부와 각종 버섯, 당근, 파, 면 등 다양한 재료들로 구성돼 있었어요. 특히 두부 속에는 고기가 들어 있어 평소 아는 것과 달리 색다른 식감을 느낄 수 있었는데 \\n고기 넣는 작업을 사장님이 직접 하셨다니 감탄을 안 할 수 없었어요. 또 야채들은 하나 같이 높은 선도가 돋보였어요.\\n손질까지 깔끔하게 되어 있어 보는 것 만으로도 맛에 대한 호기심이 커져가기 시작했죠. 맨 위에는 다짐육과 마늘, 고춧가루가 올려져 있었어요.\\n고기는 진한 선홍빛을 띄고 있어 신선한 재료임이 틀림 없었습니다. 곧이어 버너에 불을 켠 다음 대전 맛집의 전골을 보글보글 끓여주었어요. 이어서 잘 익은 칼국수 사리부터 건져냈습니다.\\n순식간에 육수를 머금어 전체적으로 붉은색으로 완성되었습니다. 바로 야채와 호로록 맛보니 텁텁하지 않고 개운했어요.\\n쫀득쫀득한 질감까지 매력적이라 단숨에 푸짐했던 칼국수 면을 해치웠죠. 면을 건져먹은 뒤에는 7~8분 정도 더 끓이며 국물이 재료에 스며들게 해주었어요. 어서 육수를 머금어 붉게 변한 고기를 품은 두부부터 공략해봤죠.\\n단독으로 먹으니 콩의 구수한 풍미와 육류의 담백함이 동시에 밀려왔어요. 또 대전 맛집의 와사비장을 활용하니 감칠맛이 배가 돼 일품이었습니다. 몰캉한 느타리 버섯에는 채수가 가득 차있어 매우 향긋했습니다. 어느 정도 건더기를 먹고난 다음에는 밥을 말아 마무리했어요.\\n오래 끓였음에도 불구하고 육수가 자극적이지 않고 얼큰, 시원해 마지막까지 남길 것이 전혀 없었네요. 이렇듯 대전 맛집은 건강과 맛 모두 잡을 수 있었던 곳이라 앞으로도 자주 찾을 계획이랍니다. 불고기그릴버섯 오믈렛 15,000원/치아바타불고기모짜렐라 15,000원\\n주소 : 대전 동구 회남로275번길 227\\n전화번호 : 042-272-1777\\n영업시간 : 평일 10:30 - 22:00 주말 10:00 - 22:00\\n저녁에는 대청호 호숫가에 위치한 레스토랑에서 식사를 하고 왔어요.\\n탁 트인 리버뷰를 바라보며 다양한 양식을 즐길 수 있었고, 로맨틱한 내부 분위기까지 인상적이라 만족스러웠어요. 닭도리탕 46,000원/백숙 41,000원\\n주소 : 대전 유성구 관용로 51\\n전화번호 : 042-935-5686\\n영업시간 : 매일 10:00 - 20:30 무휴\\n북대전 IC에 위치한 한식집은 친구의 추천으로 방문해본 곳인데요.\\n통통하게 살이 오른 토종닭으로 조리한 닭도리탕, 백숙까지 모두 기대 이상이었어요. 돈가스 7,000원/치즈가스 9,000원\\n주소 : 대전 서구 대덕대로233번길 36 라온채빌딩\\n전화번호 : 대전 서구 대덕대로233번길 36 라온채빌딩\\n영업시간 : 매일 11:00 - 22:00 L.O 21:00\\n여기는 정부청사역 1번 출구 앞에 위치한 돈가스 전문점이에요.\\n넘치는 가성비로 갓 튀겨낸 각종 돈가스를 맛볼 수 있었고, 특색 있는 메뉴까지 다양해 또 방문하고 싶어요. 아인슈페너 6,800원/딸기라떼 7,300원\\n주소 : 대전 서구 원도안로207번길 16-61\\n전화번호 : 042-545-7295\\n영업시간 : 매일 10:00 - 23:00 L.O 22:30\\n식사 후에는 목원대학교 근방에 있는 카페에서 후식을 즐기고 왔어요.\\n매일 아침 직접 빵을 만들고 있어 베이커리류들은 하나 같이 신선했고, 은은한 커피와 음료까지 모두 출중했던 곳이에요. '}, 1: {'title': '강렬했던 # 대전 맛집 모음', 'nickname': '날구', 'datetime': '2021. 4. 16. 6:00', 'content': '강렬했던\\n 대전 맛집 모음 얼마 전에는 친구들과 대전에 방문했다가 인기있는 대전 맛집을 찾았는데요!\\n마블링이 촘촘히 박혀있는 한우의 품질이 대단해서 먹는 내내 감탄했던 곳이에요.  주소 : 대전광역시 유성구 노은동 550-3번지 1,2층\\n전화번호 : 042-825-8861\\n영업시간 : 평일 17:00~22:00, 주말 및 공휴일 11:00~22:00 연중무휴 이번에 찾아간 청송한우타운은 월드컵 경기장역에서 도보 1분이면 도착할 수 있었답니다!\\n뿐만 아니라 근처에 따로 전용주차장도 마련되어 있는지라 자차를 끌고 오가기에도 부담스럽지 않은 곳이었어요. 바로 차를 댄 뒤 건물 앞에 다다랐을때 한켠에 세워진 안내문을 발견했어요!\\n평소 대전 현지인들도 많이 찾는 곳이라 그런지 이날도 300석에 달하는 전석이 예약 완료되었다는 말에 입이 떡 벌어졌답니다. 예약을 하고 가서 다행이었달까요. 안으로 들어서니 1층 공간에 정육점 코너가 마련되어 있어서 직접 먹을 고기를 골라봤어요!\\n3~4명이서 넉넉히 먹을 수 있는 스페셜세트로 골랐는데 하나같이 때깔이 좋아서 고를 맛이 나더라고요. 그리고 나서는 직원 분의 안내를 받아 대전 맛집 2층식당으로 이동했답니다!\\n식사를 할 수있는 장소가 나오는데 안락하고 프라이빗했어요. 이처럼 룸공간도 있어서 모임을 가지기에도 충분해보였답니다!\\n전통문양이 더해져 있어서 고즈넉함도 느껴지더라고요. 이어서 걸려있는 메뉴판도 봤는데 상차림비가 무척이나 저렴해 놀랬어요.\\n또, 추가메뉴 구성도 좋아서 고루고루 맛볼 수 있겠더라고요. 얼마 지나지 않아 반찬이 차곡차곡 차려지기 시작했어요!\\n어찌나 정갈한지 보기만해도 군침이 돌았답니다. 그 중 샐러드부터 눈에 들어오더라고요!\\n달콤하고 고소하니 워밍업을 시켜주는 용도로 제격이었죠. 대전 맛집은 서비스도 출중해서 상차림비가 전혀 아깝지 않을 정도였어요.\\n사사미부터 차돌박이, 생간, 천엽까지 고급스럽더라고요. 먼저 붉은 빛깔이 쨍한 육사시미로 손을 뻗었어요.\\n쫄깃하고 탱글한 맛이 혀끝을 감싸니 씹는 재미가 아주 쏠쏠했답니다. 다음으로는 천엽을 집어들었는데 참기름이랑 잘 어울렸어요!\\n특유의 아삭아삭한 텍스쳐가 끝도 없이 밀려드니 엄지를 치켜세우게 되더라고요. 바로 구워본 차돌박이는 치르르 소리를 더하면서 맛깔스러운 사운드를 뽐내더라고요!\\n서비스로 내어주셨지만 퀄리티가 좋아서 참 맛있게 먹었어요. 평소 최애하는 된장찌개도 넉넉히 맛볼 수 있었어요!\\n두부가 그득하게 채워져 있어서 제 취향을 저격하더라고요. 잠시 후에는 대전 맛집의 걸작인 청송스페셜이 차려졌는데\\n플레이팅이 화려함 그 자체라서 보는 것 만으로도 황홀경에 빠져버렸답니다. 그렇게 마블링부터 넘사벽인 등심부터 야무지게 구워봤는데요!\\n비계와 살코기가 꽃이 핀듯 예쁘장하게 수놓아진 모습은 무엇하나 흠이 없더라고요. 구운 등심은 양파절임과 곁들여 먹으니 단짠한 감칠맛이 잘 느껴졌어요!\\n씹으면 씹을수록 분출되는 육즙도 매력만점이었고요. 대전 맛집에서 손님들을 위해 가위바위보 이벤트도 진행 중이더라고요.\\n매실주나 음료 두 가지 중 하나를 제공해주시니 사장님의 센스에 저절로 고개가 끄덕여 졌네요. 다음으로 맛본 안창살인데요!\\n오버쿡을 해버릴까 노심조차하면서 정성스레 구웠더니 수분감이 낭낭하니 꿀맛이더라고요. 직후엔 올리브나 와사비를 곁들여 먹기도 했는데 생각보다 잘 어울리는 조합이었어요. 함께 나왔던 미역국은 슴슴하니 속을 뜨끈하게 챙겨줄 요소였죠.\\n미역과 소고기도 넉넉하게 채워져 있어서 집에서 끓여먹던 수준으로 맛이 좋았어요. 그리고 대전 맛집의 살치살 부위는 유독 부드러운 텍스쳐를 가지고 있더라고요.\\n일반 소고기와 한우의 차이점을 제대로 느껴볼 수 있었어요. 기본적인 기름소금장만 살짝이 가미해서 먹어도 맛 자체가 빈틈이 없더라고요.\\n질감도 야들야들해서 씹을 것도 없이 목구멍으로 직행했어요. 이건 추가로 주문한 육회에요!\\n저렴한 가격에 반비례하는 수북히 쌓아올린 양은 후한 인심을 느끼게 해주었답니다. 마지막엔 입가심을 도와줄 대나무잎 물냉도 주문해봤어요!\\n방송에도 출연했을 정도로 사이드 수준메뉴 높은 곳이다보니 안 먹고는 못베기겠더라고요. 초록초록한 면발은 쫄깃했고, 육수는 인위적이지 않고 개운해서 깔끔한 맛이었어요. 배불리 식사를 마친 뒤에는 계산하러 카운터에 갔다가 사장님께 사탕도 받았어요!\\n달콤한 후식까지 내어주신 곳이라 마무리까지 확실했답니다. 퀄리티 좋고 가격 저렴하고 서비스까지 확실했던 대전 맛집이었어요.\\n모두 대만족했던 곳이라 다음번엔 가족 모임을 가져볼까 해요. 주소 : 대전 동구 산내로 321-35 옛터민속박물관\\n전화번호 : 042-274-0016\\n영업시간 : 평일 11:00 - 00:30 주말 11:00 - 01:00\\n옛터민속박물관은 남대전ic 기준으로 차로 10분이면 도착할 수 있었어요.\\n박물관에 마련된 식당에서 먹는 한끼라 색다른 분위기였어요.\\n양식부터 한식, 야간식사까지 다채로이 꾸려져 있었고 모닥물을 피운 운치까지 인상깊었죠. 주소 : 대전 동구 옛신탄진로 13\\n전화번호 : 042-627-9972\\n영업시간 : 매일 11:00 - 21:00 월요일 휴무\\n오씨칼국수는 맛있는녀석들에 방영되었을 정도로 인기있는 칼국수 가게였어요.\\n수타면은 사용한다는 점과 멸치 다시마를 14시간 우려낸 육수가 쓰인다는 점까지 정성 깊은 맛에 일조를 하더라고요.\\n또, 바지락까지 현지에서 직송하신다는 해감도 잘 되어있고 비린내도 없었답니다. 주소 : 대전 동구 회남로275번길 227\\n전화번호 : 0507-1392-1777\\n영업시간 : 매일 10:30 - 22:00\\n신촌동에 위치한 팡시온은 대전 도심을 훌쩍 떠나온 듯한 멋진 풍경이 있는 이태리 음식점이었어요.\\n멋진 뷰를 바라보며 파스타와 스테이크를 대접받으니 호화로웠죠.\\n근교 드라이브 생각하시는 분들은 참고하시면 좋겠네요. 주소 : 대전 서구 둔산남로9번길 29\\n전화번호 : 042-486-2201\\n영업시간 : 화~일 10:30 - 15:30 (Last order 14:30)\\n시청역 2번 출구와 인접한 모루는 브런치 전문 매장으로 팬케이크와 오믈렛으로 유명하답니다.\\n데이트로 방문해도 좋을 아기자기한 분위기와 신선한 재료만 더해진 브런치 한상은 특별함이 넘쳤는데요. 해쉬브라운 에그베네딕트는 샛노란 반숙을 툭 깨트려 먹으면 부드러운 풍미가 끝내줬죠.'}, 2: {'title': '꼭 가봐야할 대전 맛집 리스트', 'nickname': '수야\\n(sooya1127)', 'datetime': '2021. 4. 16. 0:10', 'content': '지난주 가족들과 외식을 하러 미리 알아봐둔 대전 맛집을 다녀왔어요 \\n이미 근방에서는 가장 유명한 해산물 전문점으로 모든 음식들이\\n저희 가족 입맛에도 잘 맞아 모두가 배불리 먹고 돌아왔답니다  주소 : 유성구 대학로 39-10\\n번호 : 042-369-1938\\n영업시간 : 매일 12:00 - 23:00 / 브레이크타임 15:00~17:00 이번에 다녀온 인기명은 유성온천역 6번출구에서 도보로 5분이면 도착할 수 있었어요 \\n저희는 미리 예약을 하고 방문한지라 자리에 착석하자마자 빠른 속도로 밑반찬 세팅을 받아볼 수 있었는데요  그렇게 밑반찬과 소스를 살펴보고있다보니 얼마지나지않아 랍스터조갈찜이 등장했어요 \\n역시 대전 맛집은 듣던대로 다양한 해산물이 냄비에 정갈하게 담겨나와 깔끔한 비주얼이 마음에 들더라고요  잠시 해산물을 뒤로하고 소갈비찜부터 먼저 살펴보았는데요\\n달콤하면서도 은은한 한방향이 감도는 육수가 완전 제 스타일이라 자꾸만 숟가락으로 떠먹게 되더라고요  게다가 고기옆에는 옥수수, 브로콜리, 대추 등등 앙증맞은 사이즈의 사이드재료로 가득했어요\\n소갈비의 느끼함을 잠재워 줄 수 있는것들로만 알차고 센스있게 구성되어 나오더라고요\\n덕분에 중간중간 입안을 정리해줄 수 있었네요 또한 갈비찜칸에는 특이하게도 어묵꼬치도 자리잡고 있었는데요 \\n다소 이색적인 구성에 저도 처음엔 의아했지만 막상 먹어보니\\n한방육수랑 정말 잘 어울리더라고요 우리가 흔히 아는 어묵의 맛과는 차원이 달랐어요  다음으로 시선이 향한건 살아움직이는 활전복이었어요\\n저렴한 가격대 치고는 3개나 나와서 대전 맛집의 넉넉한 인심까지 엿볼 수 있었답니다  그런가하면 윤기가 반지르르한 낙지호롱은 탱글한 속살이 유독 눈에 띄었는데요 \\n살도 꽤 통통하게 올라서 빨리 익혀먹어보고픈 마음이 굴뚝이었어요  그리고 제가 가장 애정하는 가리비도 넉넉히 담아주신 모습이에요 관자기 어찌나 크고 탱글탱글하던지요 \\n바닷가 근처에서 먹는 거 보다 훨씬 더 퀄리티가 상당한 느낌이었어요 바로 옆에 자리잡은 문어는 잡내가 나지않아 더욱 더 담백하게 먹을 수 있었어요\\n워낙 사이즈도 크고 살이 실해서 한 점만 먹어줘도 풍부한 식감을 느껴볼 수 있었답니다 게다가 갑오징어 역시 비리지가 않아서 식사내내 거부감이 없었어요\\n대전 맛집은 전체적으로 재료들이 하나같이 다 싱싱해서 신뢰감이 가더라고요  이어서 큼지막한 껍질의 키조개도 보였어요\\n꽤 두툼한 두께를 자랑한 관자는 질긴부분 하나없이 쫀득하게 씹혀서 단번에 제 입맛을 사로잡았답니다 그렇게 모든 재료를 다 살펴봤다면 본격적으로 종업원분이 오셔서 재료들을 손질해주기 시작했어요 \\n갈비찜 역시 먹기 알맞은 크기로 다 커팅해주셔서 감사하더라고요  곧이어 해산물칸으로 넘어가 갑오징어부터 일일히 잘라주시는데요 \\n대전 맛집은 음식의 맛도 맛이지만 이러한 서비스가 있기때문에 재방문 확률이 높은 것 같더라고요  이 날의 하이라이트였던 랍스터도 어느덧 해체가 끝이났어요\\n달큰하면서도 담백한 향이 강하고 보기만해도 활력을 불어넣어주는것같은 비주얼에 눈을 뗄 수가 없더라고요  드디어 모든 손질이 마쳤어요 대전 맛집은 워낙 종류가 다양하다보니까 어느것부터 먹어야할지\\n잠시 행복한 고민에 빠지기도 했답니다  한참을 고민끝에 제가 평소에도 엄청 좋아하는 가리비부터 시식에 들어갔어요\\n먹었을때 입안에 흘러나오는 채즙과 은은한 바다내음이 중독성 있어 계속해서 손이 가더라고요  특히나 간장소스와 상당한 케미를 자랑했어요\\n씹었을때 탱글함이 느껴지면서도 담백하더라고요 게다가 비린내도 없어서 먹기 수월했어요 이번에는 가장 기대가 컸던 랍스타도 음미해보았는데요 \\n평소에는 비싸서 자주 접하지못하는 갑각류도 대전 맛집에선 합리적인 가격에 맛볼 수 있으니 기분 좋더라고요  한 입 크게 물어보자 굉장히 탄력감이 있는 텍스처를 자랑했어요\\n그리고 씹을때마다 단맛이 굉장히 강하더라고요 식감 또한 야들야들하면서 아주 부드러웠어요  뒤이어 맛 본 문어는 혀를 감싸는 짭조름함과 특유의 매력이 입맛을 한껏 살려주었는데요 \\n덕분에 식사하는 시간이 지루할 틈이 없었어요 마찬가지로 먹는 재미를 더해준 갑오징어 역시 대전 맛집의 은근 별미더라고요 \\n그냥 먹어도 물론 본연의 맛이 강해서 맛있었지만 초고추장에 찍어먹으니 매콤한 맛이 더해져 제 입맛에도 아주 딱이었어요 그리고 한방육수에 잔뜩 졸인 전복도 먹어봤어요\\n생으로 먹은적은 많은데 이렇게 익혀서 먹는 전복찜은 저도 난생 처음이라 반신반의하는 마음으로 먹어봤는데요 \\n의외로 되게 맛있고 담백해서 놀랐어요 곧이어 가장 저의 궁금증을 유발했던 어묵꼬치도 맛보았어요\\n달달하면서도 짭짤한 육수가 잘 베어들이있어서 한 입 먹는순간 저도 모르게 입안에 침이 절로 고이더라고요  이윽고 대전 맛집의 갈비찜도 공략해주기 시작했어요 \\n육질이 어찌나 연하던지 몇번 씹지도않았는데 목구멍으로 스무스하게 넘어가더라고요 그렇다보니 이가 안좋으신\\n어르신들이 와도 잘 드실 거 같아요 먹다보니 머스터드소스와 참 잘어울리더라고요 \\n기가막힌 꿀맛에 감탄하기 바빴어요 감칠맛 강한 양념이 곁들이니 확실히 입안이 더 즐거워지더라고요  다음으로 상큼한 쌈무에 싸서 먹으면 입안을 다시한번 정리정돈해주는 느낌이었어요\\n아주 프레쉬하게 입가심이 되니까 다시금 식욕을 일깨워주더라고요 서둘러 낙지호롱까지 호로록 해봤어요 \\n개운하고 깊은 맛이 상당히 뛰어난 해물육수의 맛이 잔뜩 베어들어가서 씹을수록 맛나더라고요   그렇게 처음부터 끝까지 모든것이 완벽했던 대전 맛집은 마지막까지 만족스럽게 즐기고 돌아온지라 다음에 있을\\n외식모임에 다시 한번 방문하기로 했어요  주소 : 대전 유성구 노은로 150 드래곤랜드\\n번호 : 042-822-2996\\n영업시간 : 12:00 - 21:00 / 준비시간 14:00 - 17:30 이어서 찾은 연스시는 노은역 4번출구 바로 앞에 있었어요. \\n당일 마다 제일 신선한 재료를 엄선해서 만든 오늘의 초밥이 일품이었죠. \\n스끼다시도 푸짐해서 더욱 마음에 들었답니다. 주소 : 대전 유성구 한밭대로371번길 25-3\\n번호 : 042-823-3712\\n영업시간 : 매일 11:00 - 22:00 다음에 방문한 커피인터뷰는 부드러운 카페라떼가 매력적이었는데요. \\n로스팅을 직접 하시는 덕분에 원두 향이 아주 특징적이더라고요. \\n분위기 역시 고급스러웠기에 강추드립니다. 주소 : 대전 유성구 전민로14번길 43\\n번호 : 042-861-6127\\n영업시간 : 매일 11:30 - 20:00 저녁을 먹었던 한방삼계탕은 이름 그대로 뽀얀 백숙이 예술이었어요. \\n각종 한약재를 아낌없이 넣어서 보양식으로도 제격이었습니다. \\n산삼주를 비롯해서 주류도 무척 다채로워요. 주소 : 대전 유성구 지족동로 146 계룡프라자\\n번호 : 042-825-3033\\n영업시간 : 매일 08:30 - 23:00 마지막으로 소개할 꾸드뱅은 성심당과 함께 대전 빵집의 양대산맥이에요. \\n고소하고 바삭바삭한 인절미 크로와상이 특히 별미였죠. \\n귀성길 선물용으로도 안성맞춤이랍니다. '}, 3: {'title': '또 가고픈 @ 대전 맛집 소개', 'nickname': '상블리', 'datetime': '2021. 5. 5. 21:11', 'content': '안녕하세요 상블리입니다.\\n얼마 전 친구들과 식사 모임이 있어\\n이왕 먹는거 거하게 먹자 싶어서\\n대전 맛집에서 소고기 먹고 왔어요.\\n대전에서 가장 잘 되는 집답게\\n퀄리티가 아주 좋아 공유해 봐요.  제가 다녀온 워낭명가는 유성온천역 8번 출구에서\\n차로 1분 정도 걸리는 곳에 있더라고요.\\n외관은 단독 2층짜리 건물이라\\n엄청 커서 눈에 딱 띄어요.\\n간판 색상도 레드, 그린이라 더 그렇고요. 주차는 매장 앞 넓은 주차구역에\\n맘 편히 대놓고 들어오면 돼요.\\n안에는 홀 좌석뿐만 아니라 룸도 있어서\\n사람이 많아도 쾌적한 식사가 가능해요.\\n테이블도 널찍널찍하죠? 안내받은 자리에 앉아 책자 메뉴판을\\n보고 특수부위모듬을 주문했어요.\\n2층이 궁금해서 가서 구경 해 보니\\n테라스 석이 엄청 탁 트여있더라고요.\\n다음엔 여기 찜이에요. 우선 알록달록한 야채들이 다양하게\\n들어있는 샐러드부터 한입 했어요.\\n대전 맛집의 드레싱은 고소한 깨가 씹히는 맛이라\\n입맛 돋우기 용으로 딱이더라고요. 노오란 색감이 귀여웠던 계란찜은\\n위에 송송 썰린 파프리카가 올라가 있더라고요.\\n한입 떠서 먹으니 계란의 부드러움이\\n입속을 가득 채우며 부담 없이 속 채우기\\n시작할 수 있었어요. 윤기가 촉촉하게 잘 구워진 이 육전은\\n빨간 홍고추가 장식하고 있었어요.\\n금방 구워져 나온 건지 따끈따끈해서\\n이로 씹자마자 슥 뜯겨져 나왔고\\n질기지 않아 좋았어요. 자박자박하게 절여진 배김치와 명이나물은\\n고기 먹을 때 올라오는 느끼함을\\n싹 씻어내려줘요.\\n대전 맛집의 절임 반찬류는 깊은 감칠맛은\\n물론이고 아삭함까지 있어요. 핏기가 살짝씩 보이는 이 생고기는\\n당일 소를 잡는 곳에서만 제공이 가능한\\n신선도 최상의 메뉴였어요.\\n비린내 하나 없이 쫀득거리며\\n씹히는 맛이라 한 접시 순식간에\\n뚝딱해버렸지 뭐예요. 저희가 시킨 특수부위 모듬은\\n마블링이 아주 예술이었어요.\\n지방 부분이 많지도 적지도 않고\\n살코기와 황금비율이라 보자마자\\n얼른 구워 먹고 싶더라고요. 우선 야무지게 손질된 갈비살부터\\n잘 달궈진 불판 위에 턱 올리니 지글지글\\n소리를 내면서 굽히더라고요.\\n육즙이 올라오는 모습을 보니 엄청\\n먹음직스러웠어요. 노릇노릇하게 잘 익은 고기 한 점 들고 와서\\n소금에만 찍어 먹어도 풍미가 아주 좋아서\\n심심한 맛이 전혀 없었어요.\\n대전 맛집 고기는 쌉싸름한 명이나물에 싸서\\n먹으면 꿀맛이에요. 다음으로는 두툼한 등심을 구워 먹어봤어요.\\n두께가 대박이더라고요.\\n지방이 적어 굽는 순간부터 담백한 향미가\\n솔솔 올라왔어요.\\n숯불 향이 입혀지는 것도 보여요. 군더더기 없이 앞뒤로\\n잘 구워진 고기를 입에 쏙 넣으니\\n스트레스가 다 풀릴 정도예요.\\n고기는 군내 하나 없어서 더 마음에 들더라고요.\\n스테이크 먹는 듯한 느낌까지 들었어요. 군침 흐르는 비주얼로 완성된 등심은\\n웰던 혹은 미디움으로 구워서 즐겨봤어요.\\n대전 맛집의 한우는 1++ 등급이라 그런지\\n질이 아주 좋아 식감도 일품이에요. 다음으로는 결이 살아있는\\n업진살을 먹어봤어요.\\n짭조름한 간으로도,\\n매콤 새콤한 야채 절임으로도 즐겨봤어요.\\n쫄깃쫄깃하게 씹히는 재미가 좋아\\n손을 쉴 수 없었어요. 얇게 썰린 마늘 쌈장에 푹 찍어서\\n고기에 곁들여 먹으면 알싸함이\\n기름기를 완전히 잡아줘요.\\n찰기가 있다 해도 좋을 정도의 식감이었던\\n대전 맛집의 고기는 아직도 잊히지 않아요. 오동통한 대창에 특양은 사이드에 있길래\\n궁금해서 시켜봤어요.\\n통마늘도 통 크게 같이 구워줬습니다.\\n양념이 살짝 되어있어 안 타도록 정성스럽게\\n컨트롤하며 구워줬답니다. 몽글몽글 피어오른 구름 같은 대창의 속은\\n바삭하게 구워진 껍질과는 상반된 매력을\\n가지고 있었습니다.\\n씹을 때마다 즙이 쭉쭉 나와서 환상적이었고\\n양은 꼬득거려서 시키길 잘했다 싶었어요. 푸짐한 고명에 맑은 육수의 물냉면도\\n안 먹으면 서운하잖아요.\\n살얼음까지 동동 떠있어서 맛있었어요.\\n탱글 하게 잘 익은 면 호로록 먹어주고\\n고기에도 싸먹고 국물까지 시원하게\\n먹어줬습니다. 맵싹하지만 달큰해서 중독성이 엄청났던\\n대전 맛집의 색이 고운 비빔냉면이에요.\\n아삭한 오이에 구수하게 삶은 계란까지\\n면에 돌돌 말아 먹으니 눈 깜짝할 새에\\n한 그릇 뚝딱이에요. 네모 반듯한 망고가 아낌없이\\n토핑 되어있는 망고 빙수는 디저트로\\n주시더라고요.\\n얼음이 엄청 고와서 소스가 잘 스며들어\\n달달, 상큼함이 제대로였어요.\\n덕분에 입가심까지 완벽하게 했답니다. 저녁으로는 엑스포 근처에 위치한 전미원에서\\n식사를 하고 왔어요.\\n여름철 백일홍 꽃밭과 편안하고 전원적인\\n분위기에서 숯불 위에서 굽는 숙성 삼겹살로\\n부드러운 육질과 고소한 풍미가 일품이었죠. 다음날 눈을 떴을 때 냉면이 너무 당겨서\\n둔산동 검찰청 앞에 위치한\\n강남면옥을 찾았어요.\\n탱글하고 쫄깃한 면발에 시원한 살얼음이\\n동동 띄워진 깊고 개운한 국물로 든든하게\\n식사를 하기에 완벽했어요. 지인이 추천해 주었던 오씨칼국수에서\\n저녁식사를 했는데요.\\n해산물과 약재를 넣는 건강한 칼국수로\\n14가지 해산물로 28시간 이상 우려내서\\n만든 육수를 사용해서 잡냄새 없이\\n깊고 시원한 맛이 일품이에요. 마지막으로 소개해드릴 곳은 설해돈으로\\n수제돈가스 전문점이에요.\\n정부청사역 2번 출구에서 10분 거리에\\n위치해있으며 주문과 동시에 갓 튀겨서 나오기 때문에\\n겉바속촉의 진가를 느낄 수 있던 곳이랍니다.'}, 4: {'title': '  이제야 알아간 대전 맛집 목록 ', 'nickname': '절대아연\\n(lovegpop)', 'datetime': '2021. 3. 22. 23:20', 'content': '  얼마 전 친구들과 친목도 다질겸 대전 맛집을 다녀왔어요. 내 취향 칼국수는 황태와 동죽이 개운한 맛을 풍겼고, 생면이라 더욱 쫀쫀해 모두가 감탄하며 즐기다 왔던 곳이에요     이번에 다녀온 삼백칼국수는 대동천에서 차로 5분 거리에 위치해있었어요 대로변 넓은 주차장에 단독건물에 우뚝 서있어 바로 찾아 갈 수 있었어요.\\n   대전 맛집 내부로 들어가니 넓고 쾌적한 홀이 시야에 들어왔어요. 10인도 앉을 수 있는 단체석과 커플석도 따로 마련되 있어 누구나 편한 식사가 가능했어요.\\n   모든 테이블에는 종이컵과 병따개도 별도로 마련되어 있어 쉽게 사용할 수 있었는데요. 요즘은 이런점이 위생적으로 느껴져 청결부분도 안심이 되었어요.\\n   매장 옆쪽에 유아를 위한 아기 의자도 마련되어 있어 가족 모임에도 들리기 좋은 외식장소였답니다.\\n    자리로 이동하는 길에는 셀프바도 마주할 수 있었어요. 양껏 담겨진 후한인심에 얼릉 맛보고 싶은 마음이 다급해지더라고요.\\n  안내해준 자리에 앉아 메뉴판을 슥 살펴봤어요. 매운맛은 단계별로 나눠지는데, 여러개 시켜도 가성비가 좋아 이것저것 주문넣었어요.\\n   주문하고 잠시 기다리니 대전 맛집의 상차림이 시작되었어요. 쌈싸먹을 수 있는 상추나,마늘,고추는 무르지않아 신선했고, 소스도 취향별로 등장해 우리의 이목이 집중되었답니다.\\n   가장 먼저 싱싱한 김치와 단무지부터 먹어봤어요. 묵은내 하나 없이 싱싱한 채즙이 주륵 나와 가볍게 식전용으로 즐기기 좋았어요.\\n   그 다음은 플레이팅이 끝내주는 칼국수 차례였는데요. 먹기좋게 한차례 끓여나와 겉에 맴도는 향기가 예사롭지 않았어요. 개운한 황태와 애호박이 썰려 있어 딱봐도 시원함에 구미가 확 당겨오더라고요.\\n   더욱이 당일 만든 생면이라 쫄깃한 탄성이 매우 만족스러웠어요. 밀가루 맛은 일절 나지않고, 개운한 육수가 한아름 스미어 담백한 풍미가 별미였어요.\\n   또, 동죽은 해감이 잘되 칼국수 감초역할로 정답이었어요. 입이 쩍쩍 벌어진 동죽의 알맹이에 이 집 퀄리티가 느껴져 감동적이었어요.\\n   그 오른쪽 해물파전은 입맛을 더욱 살리는 역할로 합격이었어요. 도톰한 튀김가루에 오징어,부추가 들어가 씹을 수록 고소한 맛이 진동해 자꾸만 손이 가더라고요.\\n   별미로 즐겼던 순간은 같이 나온 양념장에 찍어 맛볼 때였는데요. 향긋한 간장내음과 바삭하게 튀겨진 오징어는 어즙이 온전히 살아있어 딱 제 입맛에도 잘 맞았어요.\\n    그러다 추가로 주문한 물총탕도 맛볼 수 있는데, 얼핏봐도 얼큰하게 청양고추가 들어가 침이 줄줄 고이는 느낌에 대전 맛집의 별미였어요. 다음으로는 초장에 찍어 먹었는데, 선도가 어찌나 좋던지 살짝 담궜음에도 어즙이 보일 정도였어요.\\n    드디어 대전 맛집 주인공 보쌈을 먹어볼 차례였어요.\\n수육뿐 아니라, 무생채까지 넘칠듯 담아주셔서 푸짐한 인심에 감동까지 느껴졌어요.\\n   우선 상추에다 무생채를 올리고 입속으로 직행했어요. 육즙이 팡 터지는데 이와 별도로 채수도 흘러나와 달큰짭쪼롬한 풍미를 동시다발적으로 즐길 수 있어 깜짝 놀랐어요.\\n   대전 맛집 수육은 암퇘지라 연한 육질이 인상적인데요. 무생채랑 한입 먹어도 맵칼하면서 고소한 맛이 보장돼 이날 꼽은 최애콜라보를 자랑했어요.\\n   라스트는 만두로 주문해 대미를 장식했어요. 찜기에 손수 등장해 따뜻한 온기가 지속되는데, 고기와 김치를 잘게 넣은게 육안으로 선명히 보여 진한 풍미도 예상할 수 있었어요.\\n     이 건 어떻게 먹어도 천하일미였어요. 육즙이 가득한 고기만두는 담백함이 좋고, 김치만두는 시콤하면서 속이 부대끼지 않아 하나도 남김없이 클리어했답니다.  집에 갈때 그냥 가기 아쉬운 마음에 간단히 포장도 해보았어요. 식당에서 먹는 것처럼 레시피 그대로 집에서 식사를 누릴 수 있다는게 큰 메리트로 느껴졌어요.\\n        골목길에서 디저트할 가게를 찾다가 70~80년대 건물의 오래된 숯골원냉면집을 방문했어요 1954년도에 세워져 부모님 세대서부터 대를 이어온 역사의 공간이더라고요. 세월이 묻어난 만큼 창호지문으로 된 룸에서 귀한 손님과 오순도순 대화를 하며 시원한 얼음냉면 한그릇 뚝딱 할 수 있어 특별한 분위기를 자아냈답니다.\\n   둔산로31번길을 따라 이태리국시로 갔는데요 한스빌딩 바로 옆 건물이라 찾기가 쉽더라구요. 히말라야 핑크소금이 들어간 돌솥 채끝살은 속이 거북하지않은 느끼함에 살살 녹아 들어갔어요. 또, 계절메뉴 수박&바질샐러드도 곧 시판될 예정이라던데 어떤 맛일지 궁금해지는 마음에 호시탐탐 노려볼려구요\\n    옛 판자집처럼 허름해보이는 이색건물에 이끌려 들어간 곳은 슈니첼이라는 곳이에요. 외관은 기와집으로된 코리안 푸드 느낌이지만, 레트로 분위기에다가 실제 맛은 기다림도 지루하지않을만큼 심심하지않았어요. 왜냐구요? 소품들 구경거리도 솔솔했거든요. 대체적으로 1만원대를 뛰어넘지않아 한끼 식사가격으로 충분했답니다.\\n     콧바람쐬기에도 좋고, 사거리에 자리해있어 당골들이 많다는 세호불백은 저녁즈음에 갔어요. 2인분에찌개 하나 주문했더니 달랑 2만원대라 부담스럽지 않았어요. 특히 불백은 누린내가 나지않아 담백함이 좋았고, 묵은지를 숙성시켜 나온 김치찌개는 개운한 국물로 목매일 없이 든든히 배를 채웠어요.\\n  *이 포스팅은 소정의 원고료를 제공받아 솔직하게 작성되었습니다. \\n#대전맛집 #삼백칼국수보쌈 #대전해물칼구수\\n#대잔해물파전\\n '}}\n"
     ]
    }
   ],
   "source": [
    "dict = {}    # 전체 크롤링 데이터를 담을 그릇\n",
    "\n",
    "number = 5  # 수집할 글 갯수 정하기\n",
    "\n",
    "# 수집한 url 돌면서 데이터 수집\n",
    "for i in tqdm_notebook(range(0, number)):    # 0부터 30까지 반복되도록 세팅\n",
    "    # 글 띄우기\n",
    "    url = url_load['url'][i]\n",
    "    driver = webdriver.Chrome(\"chromedriver.exe\")  # 윈도우는 \"chromedriver.exe\"\n",
    "    driver.get(url)   # 글 띄우기\n",
    "    \n",
    "    # 크롤링\n",
    "    \n",
    "    try : \n",
    "        # iframe 접근, 네이버 블로그/카페\n",
    "        driver.switch_to.frame('mainFrame')\n",
    "\n",
    "        target_info = {}  # 개별 블로그 내용을 담을 딕셔너리 생성\n",
    "\n",
    "        # 제목 크롤링 시작\n",
    "        overlays = \".se-module.se-module-text.se-title-text\"     # <span>의 상위에 있는 <div class> 입력                            \n",
    "        tit = driver.find_element_by_css_selector(overlays)      # title\n",
    "        title = tit.text\n",
    "\n",
    "        # 글쓴이 크롤링 시작\n",
    "        overlays = \".nick\"                                        # <span> 의 class 입력\n",
    "        nick = driver.find_element_by_css_selector(overlays)         # nickname\n",
    "        nickname = nick.text\n",
    "\n",
    "        # 날짜 크롤링\n",
    "        overlays = \".se_publishDate.pcol2\"                                 \n",
    "        date = driver.find_element_by_css_selector(overlays)         # datetime\n",
    "        datetime = date.text\n",
    "\n",
    "        # 내용 크롤링\n",
    "        overlays = \".se-component.se-text.se-l-default\"                                 \n",
    "        contents = driver.find_elements_by_css_selector(overlays)    # contents\n",
    "\n",
    "        # 텍스트가 line으로 수집이 되기 때문에 하나씩 뽑아서 이어붙이는 작업 필요\n",
    "        content_list = []\n",
    "        for content in contents:\n",
    "            content_list.append(content.text)\n",
    " \n",
    "        content_str = ' '.join(content_list)    # 띄어쓰기 붙이기        # content_str\n",
    "\n",
    "        # 글 하나는 target_info라는 딕셔너리에 담기게 되고,\n",
    "        target_info['title'] = title\n",
    "        target_info['nickname'] = nickname\n",
    "        target_info['datetime'] = datetime\n",
    "        target_info['content'] = content_str\n",
    "\n",
    "        # 각각의 글은 dict라는 딕셔너리에 담기게 됩니다.\n",
    "        dict[i] = target_info\n",
    "        time.sleep(1)\n",
    "        \n",
    "        # 크롤링이 성공하면 글 제목을 출력하게 되고,\n",
    "        print(i, title)\n",
    "\n",
    "        # 글 하나 크롤링 후 크롬 창을 닫습니다.\n",
    "        driver.close()       \n",
    "    \n",
    "    # 에러나면 현재 크롬창을 닫고 다음 글(i+1)로 이동합니다.\n",
    "    except:\n",
    "        driver.close()\n",
    "        time.sleep(1)\n",
    "        continue    # 다음으로 넘어가라\n",
    "    \n",
    "    # 중간,중간에 파일로 저장하기\n",
    "    if i == 30 or 50 or 80:\n",
    "        # 판다스로 만들기\n",
    "        import pandas as pd\n",
    "        result_df = pd.DataFrame.from_dict(dict, 'index')\n",
    "\n",
    "        # 저장하기\n",
    "        result_df.to_excel(\"blog_content.xlsx\", encoding='utf-8-sig')   # encoding='utf-8-sig' : 한글 깨지는것 방지\n",
    "        time.sleep(3)\n",
    "\n",
    "print('수집한 글 갯수: ', len(dict))\n",
    "print(dict)"
   ]
  },
  {
   "cell_type": "code",
   "execution_count": 38,
   "metadata": {
    "scrolled": true
   },
   "outputs": [
    {
     "data": {
      "text/plain": [
       "{0: {'title': '구수했던 대전 맛집 모음',\n",
       "  'nickname': '에이미네\\n(jinmylove)',\n",
       "  'datetime': '2021. 4. 21. 10:10',\n",
       "  'content': '지난 주말 가족들과 장동산림욕장으로 힐링을 하러 갔다가 미리 찾아둔 대전 맛집에 다녀왔어요.\\n수준 높은 밑반찬과 구수한 두부전골을 푸짐하게 즐길 수 있었어요. 고기 품은 두부전골 (중) 29,000원 주소 : 대전 대덕구 계족로664번길 113\\n전화번호 : 042-625-3345\\n영업시간 : 매일 11:30 - 21:00\\nB.T 평일 15:00 - 17:00 주말 16:00 - 17:00\\n월요일 휴무 이번에 찾아간 매봉식당은 상수골어린이공원에서 차로 4분 거리였고 \\n건물에 걸린 갈색 간판에 상호가 또박또박 적혀 있어 쉽게 눈길을 끌었어요.\\n그리고 가게 길 건너 삼익소월아파트 주차장에 차를 댈 수 있어 자차를 이용하기에도 편리한 곳이었어요. 곧장 들어가본 실내는 화이트톤으로 꾸며져 있어 쾌적한 분위기가 돋보였어요.\\n홀에는 입식 테이블들이 놓여 있었는데 간격이 여유로워 이동하기 편리했어요. 안쪽에는 모임장소로 좋을만한 룸도 완비돼 있었어요.\\n칸막이로 공간을 분리할 수 있게 되어 있어 각종 모임장소로도 좋겠다 싶었습니다. 특히 대전 맛집은 2대째 22년간 전통을 이어오고 있는 곳이라 \\n이미 지역주민들에게도 정평이 나 있었어요. 또 홀에서 식사 뿐만 아니라 포장도 가능하니 참고하시면 좋을 것 같아요. 테이블 근처에는 일회용 앞치마도 준비되어 있었습니다.\\n여러모로 위생에 신경이 많이 쓰이는 만큼 다회용이 아니라 마음에 쏙 들었어요. 안내 받은 자리에 착석한 뒤 저희는 대표메뉴인 고기 품은 두부전골 중자로 선택했어요. 얼마 지나지 않아 밑반찬부터 차례로 테이블을 채워갔어요.\\n모든 음식들은 손수 만드신거라 집에서 엄마가 차려주시는 것 만큼 정갈함이 돋보였죠. 그중 대전 맛집의 무김치로 입맛을 돋우어봤어요.\\n시큼한 채즙이 단번에 속 깊은 곳까지 개운함을 전달해줬습니다. 그리고 물미역은 초장에 찍어 먹으니 전혀 비리지 않아 만족스러웠어요. 옆에 있던 상추겉절에서도 사장님의 정성 가득한 손맛이 느껴져 먹는 내내 미소가 절로 번졌죠. 또 다른 별미 중 하나였던 배추무침은 슴슴하게 간이 배어 있어 메인메뉴와도 잘 어울렸습니다. 게다가 샐러드에는 과일까지 들어 있었습니다.\\n달달한 마요네즈와의 궁합도 좋았고, 입가심용으로도 탁월해 손이 자주 갔어요. 뿐만 아니라 물도 생수로 제공해주셨던 대전 맛집이었어요.\\n여러모로 마음 놓고 식사할 수 있도록 배려해두신 모습에 제대로 대접 받는 기분이 들었습니다. 이어서 메인메뉴인 두부전골을 맛볼 차례였어요.\\n두툼하게 썰린 두부와 각종 버섯, 당근, 파, 면 등 다양한 재료들로 구성돼 있었어요. 특히 두부 속에는 고기가 들어 있어 평소 아는 것과 달리 색다른 식감을 느낄 수 있었는데 \\n고기 넣는 작업을 사장님이 직접 하셨다니 감탄을 안 할 수 없었어요. 또 야채들은 하나 같이 높은 선도가 돋보였어요.\\n손질까지 깔끔하게 되어 있어 보는 것 만으로도 맛에 대한 호기심이 커져가기 시작했죠. 맨 위에는 다짐육과 마늘, 고춧가루가 올려져 있었어요.\\n고기는 진한 선홍빛을 띄고 있어 신선한 재료임이 틀림 없었습니다. 곧이어 버너에 불을 켠 다음 대전 맛집의 전골을 보글보글 끓여주었어요. 이어서 잘 익은 칼국수 사리부터 건져냈습니다.\\n순식간에 육수를 머금어 전체적으로 붉은색으로 완성되었습니다. 바로 야채와 호로록 맛보니 텁텁하지 않고 개운했어요.\\n쫀득쫀득한 질감까지 매력적이라 단숨에 푸짐했던 칼국수 면을 해치웠죠. 면을 건져먹은 뒤에는 7~8분 정도 더 끓이며 국물이 재료에 스며들게 해주었어요. 어서 육수를 머금어 붉게 변한 고기를 품은 두부부터 공략해봤죠.\\n단독으로 먹으니 콩의 구수한 풍미와 육류의 담백함이 동시에 밀려왔어요. 또 대전 맛집의 와사비장을 활용하니 감칠맛이 배가 돼 일품이었습니다. 몰캉한 느타리 버섯에는 채수가 가득 차있어 매우 향긋했습니다. 어느 정도 건더기를 먹고난 다음에는 밥을 말아 마무리했어요.\\n오래 끓였음에도 불구하고 육수가 자극적이지 않고 얼큰, 시원해 마지막까지 남길 것이 전혀 없었네요. 이렇듯 대전 맛집은 건강과 맛 모두 잡을 수 있었던 곳이라 앞으로도 자주 찾을 계획이랍니다. 불고기그릴버섯 오믈렛 15,000원/치아바타불고기모짜렐라 15,000원\\n주소 : 대전 동구 회남로275번길 227\\n전화번호 : 042-272-1777\\n영업시간 : 평일 10:30 - 22:00 주말 10:00 - 22:00\\n저녁에는 대청호 호숫가에 위치한 레스토랑에서 식사를 하고 왔어요.\\n탁 트인 리버뷰를 바라보며 다양한 양식을 즐길 수 있었고, 로맨틱한 내부 분위기까지 인상적이라 만족스러웠어요. 닭도리탕 46,000원/백숙 41,000원\\n주소 : 대전 유성구 관용로 51\\n전화번호 : 042-935-5686\\n영업시간 : 매일 10:00 - 20:30 무휴\\n북대전 IC에 위치한 한식집은 친구의 추천으로 방문해본 곳인데요.\\n통통하게 살이 오른 토종닭으로 조리한 닭도리탕, 백숙까지 모두 기대 이상이었어요. 돈가스 7,000원/치즈가스 9,000원\\n주소 : 대전 서구 대덕대로233번길 36 라온채빌딩\\n전화번호 : 대전 서구 대덕대로233번길 36 라온채빌딩\\n영업시간 : 매일 11:00 - 22:00 L.O 21:00\\n여기는 정부청사역 1번 출구 앞에 위치한 돈가스 전문점이에요.\\n넘치는 가성비로 갓 튀겨낸 각종 돈가스를 맛볼 수 있었고, 특색 있는 메뉴까지 다양해 또 방문하고 싶어요. 아인슈페너 6,800원/딸기라떼 7,300원\\n주소 : 대전 서구 원도안로207번길 16-61\\n전화번호 : 042-545-7295\\n영업시간 : 매일 10:00 - 23:00 L.O 22:30\\n식사 후에는 목원대학교 근방에 있는 카페에서 후식을 즐기고 왔어요.\\n매일 아침 직접 빵을 만들고 있어 베이커리류들은 하나 같이 신선했고, 은은한 커피와 음료까지 모두 출중했던 곳이에요. '},\n",
       " 1: {'title': '강렬했던 # 대전 맛집 모음',\n",
       "  'nickname': '날구',\n",
       "  'datetime': '2021. 4. 16. 6:00',\n",
       "  'content': '강렬했던\\n 대전 맛집 모음 얼마 전에는 친구들과 대전에 방문했다가 인기있는 대전 맛집을 찾았는데요!\\n마블링이 촘촘히 박혀있는 한우의 품질이 대단해서 먹는 내내 감탄했던 곳이에요.  주소 : 대전광역시 유성구 노은동 550-3번지 1,2층\\n전화번호 : 042-825-8861\\n영업시간 : 평일 17:00~22:00, 주말 및 공휴일 11:00~22:00 연중무휴 이번에 찾아간 청송한우타운은 월드컵 경기장역에서 도보 1분이면 도착할 수 있었답니다!\\n뿐만 아니라 근처에 따로 전용주차장도 마련되어 있는지라 자차를 끌고 오가기에도 부담스럽지 않은 곳이었어요. 바로 차를 댄 뒤 건물 앞에 다다랐을때 한켠에 세워진 안내문을 발견했어요!\\n평소 대전 현지인들도 많이 찾는 곳이라 그런지 이날도 300석에 달하는 전석이 예약 완료되었다는 말에 입이 떡 벌어졌답니다. 예약을 하고 가서 다행이었달까요. 안으로 들어서니 1층 공간에 정육점 코너가 마련되어 있어서 직접 먹을 고기를 골라봤어요!\\n3~4명이서 넉넉히 먹을 수 있는 스페셜세트로 골랐는데 하나같이 때깔이 좋아서 고를 맛이 나더라고요. 그리고 나서는 직원 분의 안내를 받아 대전 맛집 2층식당으로 이동했답니다!\\n식사를 할 수있는 장소가 나오는데 안락하고 프라이빗했어요. 이처럼 룸공간도 있어서 모임을 가지기에도 충분해보였답니다!\\n전통문양이 더해져 있어서 고즈넉함도 느껴지더라고요. 이어서 걸려있는 메뉴판도 봤는데 상차림비가 무척이나 저렴해 놀랬어요.\\n또, 추가메뉴 구성도 좋아서 고루고루 맛볼 수 있겠더라고요. 얼마 지나지 않아 반찬이 차곡차곡 차려지기 시작했어요!\\n어찌나 정갈한지 보기만해도 군침이 돌았답니다. 그 중 샐러드부터 눈에 들어오더라고요!\\n달콤하고 고소하니 워밍업을 시켜주는 용도로 제격이었죠. 대전 맛집은 서비스도 출중해서 상차림비가 전혀 아깝지 않을 정도였어요.\\n사사미부터 차돌박이, 생간, 천엽까지 고급스럽더라고요. 먼저 붉은 빛깔이 쨍한 육사시미로 손을 뻗었어요.\\n쫄깃하고 탱글한 맛이 혀끝을 감싸니 씹는 재미가 아주 쏠쏠했답니다. 다음으로는 천엽을 집어들었는데 참기름이랑 잘 어울렸어요!\\n특유의 아삭아삭한 텍스쳐가 끝도 없이 밀려드니 엄지를 치켜세우게 되더라고요. 바로 구워본 차돌박이는 치르르 소리를 더하면서 맛깔스러운 사운드를 뽐내더라고요!\\n서비스로 내어주셨지만 퀄리티가 좋아서 참 맛있게 먹었어요. 평소 최애하는 된장찌개도 넉넉히 맛볼 수 있었어요!\\n두부가 그득하게 채워져 있어서 제 취향을 저격하더라고요. 잠시 후에는 대전 맛집의 걸작인 청송스페셜이 차려졌는데\\n플레이팅이 화려함 그 자체라서 보는 것 만으로도 황홀경에 빠져버렸답니다. 그렇게 마블링부터 넘사벽인 등심부터 야무지게 구워봤는데요!\\n비계와 살코기가 꽃이 핀듯 예쁘장하게 수놓아진 모습은 무엇하나 흠이 없더라고요. 구운 등심은 양파절임과 곁들여 먹으니 단짠한 감칠맛이 잘 느껴졌어요!\\n씹으면 씹을수록 분출되는 육즙도 매력만점이었고요. 대전 맛집에서 손님들을 위해 가위바위보 이벤트도 진행 중이더라고요.\\n매실주나 음료 두 가지 중 하나를 제공해주시니 사장님의 센스에 저절로 고개가 끄덕여 졌네요. 다음으로 맛본 안창살인데요!\\n오버쿡을 해버릴까 노심조차하면서 정성스레 구웠더니 수분감이 낭낭하니 꿀맛이더라고요. 직후엔 올리브나 와사비를 곁들여 먹기도 했는데 생각보다 잘 어울리는 조합이었어요. 함께 나왔던 미역국은 슴슴하니 속을 뜨끈하게 챙겨줄 요소였죠.\\n미역과 소고기도 넉넉하게 채워져 있어서 집에서 끓여먹던 수준으로 맛이 좋았어요. 그리고 대전 맛집의 살치살 부위는 유독 부드러운 텍스쳐를 가지고 있더라고요.\\n일반 소고기와 한우의 차이점을 제대로 느껴볼 수 있었어요. 기본적인 기름소금장만 살짝이 가미해서 먹어도 맛 자체가 빈틈이 없더라고요.\\n질감도 야들야들해서 씹을 것도 없이 목구멍으로 직행했어요. 이건 추가로 주문한 육회에요!\\n저렴한 가격에 반비례하는 수북히 쌓아올린 양은 후한 인심을 느끼게 해주었답니다. 마지막엔 입가심을 도와줄 대나무잎 물냉도 주문해봤어요!\\n방송에도 출연했을 정도로 사이드 수준메뉴 높은 곳이다보니 안 먹고는 못베기겠더라고요. 초록초록한 면발은 쫄깃했고, 육수는 인위적이지 않고 개운해서 깔끔한 맛이었어요. 배불리 식사를 마친 뒤에는 계산하러 카운터에 갔다가 사장님께 사탕도 받았어요!\\n달콤한 후식까지 내어주신 곳이라 마무리까지 확실했답니다. 퀄리티 좋고 가격 저렴하고 서비스까지 확실했던 대전 맛집이었어요.\\n모두 대만족했던 곳이라 다음번엔 가족 모임을 가져볼까 해요. 주소 : 대전 동구 산내로 321-35 옛터민속박물관\\n전화번호 : 042-274-0016\\n영업시간 : 평일 11:00 - 00:30 주말 11:00 - 01:00\\n옛터민속박물관은 남대전ic 기준으로 차로 10분이면 도착할 수 있었어요.\\n박물관에 마련된 식당에서 먹는 한끼라 색다른 분위기였어요.\\n양식부터 한식, 야간식사까지 다채로이 꾸려져 있었고 모닥물을 피운 운치까지 인상깊었죠. 주소 : 대전 동구 옛신탄진로 13\\n전화번호 : 042-627-9972\\n영업시간 : 매일 11:00 - 21:00 월요일 휴무\\n오씨칼국수는 맛있는녀석들에 방영되었을 정도로 인기있는 칼국수 가게였어요.\\n수타면은 사용한다는 점과 멸치 다시마를 14시간 우려낸 육수가 쓰인다는 점까지 정성 깊은 맛에 일조를 하더라고요.\\n또, 바지락까지 현지에서 직송하신다는 해감도 잘 되어있고 비린내도 없었답니다. 주소 : 대전 동구 회남로275번길 227\\n전화번호 : 0507-1392-1777\\n영업시간 : 매일 10:30 - 22:00\\n신촌동에 위치한 팡시온은 대전 도심을 훌쩍 떠나온 듯한 멋진 풍경이 있는 이태리 음식점이었어요.\\n멋진 뷰를 바라보며 파스타와 스테이크를 대접받으니 호화로웠죠.\\n근교 드라이브 생각하시는 분들은 참고하시면 좋겠네요. 주소 : 대전 서구 둔산남로9번길 29\\n전화번호 : 042-486-2201\\n영업시간 : 화~일 10:30 - 15:30 (Last order 14:30)\\n시청역 2번 출구와 인접한 모루는 브런치 전문 매장으로 팬케이크와 오믈렛으로 유명하답니다.\\n데이트로 방문해도 좋을 아기자기한 분위기와 신선한 재료만 더해진 브런치 한상은 특별함이 넘쳤는데요. 해쉬브라운 에그베네딕트는 샛노란 반숙을 툭 깨트려 먹으면 부드러운 풍미가 끝내줬죠.'},\n",
       " 2: {'title': '꼭 가봐야할 대전 맛집 리스트',\n",
       "  'nickname': '수야\\n(sooya1127)',\n",
       "  'datetime': '2021. 4. 16. 0:10',\n",
       "  'content': '지난주 가족들과 외식을 하러 미리 알아봐둔 대전 맛집을 다녀왔어요 \\n이미 근방에서는 가장 유명한 해산물 전문점으로 모든 음식들이\\n저희 가족 입맛에도 잘 맞아 모두가 배불리 먹고 돌아왔답니다  주소 : 유성구 대학로 39-10\\n번호 : 042-369-1938\\n영업시간 : 매일 12:00 - 23:00 / 브레이크타임 15:00~17:00 이번에 다녀온 인기명은 유성온천역 6번출구에서 도보로 5분이면 도착할 수 있었어요 \\n저희는 미리 예약을 하고 방문한지라 자리에 착석하자마자 빠른 속도로 밑반찬 세팅을 받아볼 수 있었는데요  그렇게 밑반찬과 소스를 살펴보고있다보니 얼마지나지않아 랍스터조갈찜이 등장했어요 \\n역시 대전 맛집은 듣던대로 다양한 해산물이 냄비에 정갈하게 담겨나와 깔끔한 비주얼이 마음에 들더라고요  잠시 해산물을 뒤로하고 소갈비찜부터 먼저 살펴보았는데요\\n달콤하면서도 은은한 한방향이 감도는 육수가 완전 제 스타일이라 자꾸만 숟가락으로 떠먹게 되더라고요  게다가 고기옆에는 옥수수, 브로콜리, 대추 등등 앙증맞은 사이즈의 사이드재료로 가득했어요\\n소갈비의 느끼함을 잠재워 줄 수 있는것들로만 알차고 센스있게 구성되어 나오더라고요\\n덕분에 중간중간 입안을 정리해줄 수 있었네요 또한 갈비찜칸에는 특이하게도 어묵꼬치도 자리잡고 있었는데요 \\n다소 이색적인 구성에 저도 처음엔 의아했지만 막상 먹어보니\\n한방육수랑 정말 잘 어울리더라고요 우리가 흔히 아는 어묵의 맛과는 차원이 달랐어요  다음으로 시선이 향한건 살아움직이는 활전복이었어요\\n저렴한 가격대 치고는 3개나 나와서 대전 맛집의 넉넉한 인심까지 엿볼 수 있었답니다  그런가하면 윤기가 반지르르한 낙지호롱은 탱글한 속살이 유독 눈에 띄었는데요 \\n살도 꽤 통통하게 올라서 빨리 익혀먹어보고픈 마음이 굴뚝이었어요  그리고 제가 가장 애정하는 가리비도 넉넉히 담아주신 모습이에요 관자기 어찌나 크고 탱글탱글하던지요 \\n바닷가 근처에서 먹는 거 보다 훨씬 더 퀄리티가 상당한 느낌이었어요 바로 옆에 자리잡은 문어는 잡내가 나지않아 더욱 더 담백하게 먹을 수 있었어요\\n워낙 사이즈도 크고 살이 실해서 한 점만 먹어줘도 풍부한 식감을 느껴볼 수 있었답니다 게다가 갑오징어 역시 비리지가 않아서 식사내내 거부감이 없었어요\\n대전 맛집은 전체적으로 재료들이 하나같이 다 싱싱해서 신뢰감이 가더라고요  이어서 큼지막한 껍질의 키조개도 보였어요\\n꽤 두툼한 두께를 자랑한 관자는 질긴부분 하나없이 쫀득하게 씹혀서 단번에 제 입맛을 사로잡았답니다 그렇게 모든 재료를 다 살펴봤다면 본격적으로 종업원분이 오셔서 재료들을 손질해주기 시작했어요 \\n갈비찜 역시 먹기 알맞은 크기로 다 커팅해주셔서 감사하더라고요  곧이어 해산물칸으로 넘어가 갑오징어부터 일일히 잘라주시는데요 \\n대전 맛집은 음식의 맛도 맛이지만 이러한 서비스가 있기때문에 재방문 확률이 높은 것 같더라고요  이 날의 하이라이트였던 랍스터도 어느덧 해체가 끝이났어요\\n달큰하면서도 담백한 향이 강하고 보기만해도 활력을 불어넣어주는것같은 비주얼에 눈을 뗄 수가 없더라고요  드디어 모든 손질이 마쳤어요 대전 맛집은 워낙 종류가 다양하다보니까 어느것부터 먹어야할지\\n잠시 행복한 고민에 빠지기도 했답니다  한참을 고민끝에 제가 평소에도 엄청 좋아하는 가리비부터 시식에 들어갔어요\\n먹었을때 입안에 흘러나오는 채즙과 은은한 바다내음이 중독성 있어 계속해서 손이 가더라고요  특히나 간장소스와 상당한 케미를 자랑했어요\\n씹었을때 탱글함이 느껴지면서도 담백하더라고요 게다가 비린내도 없어서 먹기 수월했어요 이번에는 가장 기대가 컸던 랍스타도 음미해보았는데요 \\n평소에는 비싸서 자주 접하지못하는 갑각류도 대전 맛집에선 합리적인 가격에 맛볼 수 있으니 기분 좋더라고요  한 입 크게 물어보자 굉장히 탄력감이 있는 텍스처를 자랑했어요\\n그리고 씹을때마다 단맛이 굉장히 강하더라고요 식감 또한 야들야들하면서 아주 부드러웠어요  뒤이어 맛 본 문어는 혀를 감싸는 짭조름함과 특유의 매력이 입맛을 한껏 살려주었는데요 \\n덕분에 식사하는 시간이 지루할 틈이 없었어요 마찬가지로 먹는 재미를 더해준 갑오징어 역시 대전 맛집의 은근 별미더라고요 \\n그냥 먹어도 물론 본연의 맛이 강해서 맛있었지만 초고추장에 찍어먹으니 매콤한 맛이 더해져 제 입맛에도 아주 딱이었어요 그리고 한방육수에 잔뜩 졸인 전복도 먹어봤어요\\n생으로 먹은적은 많은데 이렇게 익혀서 먹는 전복찜은 저도 난생 처음이라 반신반의하는 마음으로 먹어봤는데요 \\n의외로 되게 맛있고 담백해서 놀랐어요 곧이어 가장 저의 궁금증을 유발했던 어묵꼬치도 맛보았어요\\n달달하면서도 짭짤한 육수가 잘 베어들이있어서 한 입 먹는순간 저도 모르게 입안에 침이 절로 고이더라고요  이윽고 대전 맛집의 갈비찜도 공략해주기 시작했어요 \\n육질이 어찌나 연하던지 몇번 씹지도않았는데 목구멍으로 스무스하게 넘어가더라고요 그렇다보니 이가 안좋으신\\n어르신들이 와도 잘 드실 거 같아요 먹다보니 머스터드소스와 참 잘어울리더라고요 \\n기가막힌 꿀맛에 감탄하기 바빴어요 감칠맛 강한 양념이 곁들이니 확실히 입안이 더 즐거워지더라고요  다음으로 상큼한 쌈무에 싸서 먹으면 입안을 다시한번 정리정돈해주는 느낌이었어요\\n아주 프레쉬하게 입가심이 되니까 다시금 식욕을 일깨워주더라고요 서둘러 낙지호롱까지 호로록 해봤어요 \\n개운하고 깊은 맛이 상당히 뛰어난 해물육수의 맛이 잔뜩 베어들어가서 씹을수록 맛나더라고요   그렇게 처음부터 끝까지 모든것이 완벽했던 대전 맛집은 마지막까지 만족스럽게 즐기고 돌아온지라 다음에 있을\\n외식모임에 다시 한번 방문하기로 했어요  주소 : 대전 유성구 노은로 150 드래곤랜드\\n번호 : 042-822-2996\\n영업시간 : 12:00 - 21:00 / 준비시간 14:00 - 17:30 이어서 찾은 연스시는 노은역 4번출구 바로 앞에 있었어요. \\n당일 마다 제일 신선한 재료를 엄선해서 만든 오늘의 초밥이 일품이었죠. \\n스끼다시도 푸짐해서 더욱 마음에 들었답니다. 주소 : 대전 유성구 한밭대로371번길 25-3\\n번호 : 042-823-3712\\n영업시간 : 매일 11:00 - 22:00 다음에 방문한 커피인터뷰는 부드러운 카페라떼가 매력적이었는데요. \\n로스팅을 직접 하시는 덕분에 원두 향이 아주 특징적이더라고요. \\n분위기 역시 고급스러웠기에 강추드립니다. 주소 : 대전 유성구 전민로14번길 43\\n번호 : 042-861-6127\\n영업시간 : 매일 11:30 - 20:00 저녁을 먹었던 한방삼계탕은 이름 그대로 뽀얀 백숙이 예술이었어요. \\n각종 한약재를 아낌없이 넣어서 보양식으로도 제격이었습니다. \\n산삼주를 비롯해서 주류도 무척 다채로워요. 주소 : 대전 유성구 지족동로 146 계룡프라자\\n번호 : 042-825-3033\\n영업시간 : 매일 08:30 - 23:00 마지막으로 소개할 꾸드뱅은 성심당과 함께 대전 빵집의 양대산맥이에요. \\n고소하고 바삭바삭한 인절미 크로와상이 특히 별미였죠. \\n귀성길 선물용으로도 안성맞춤이랍니다. '},\n",
       " 3: {'title': '또 가고픈 @ 대전 맛집 소개',\n",
       "  'nickname': '상블리',\n",
       "  'datetime': '2021. 5. 5. 21:11',\n",
       "  'content': '안녕하세요 상블리입니다.\\n얼마 전 친구들과 식사 모임이 있어\\n이왕 먹는거 거하게 먹자 싶어서\\n대전 맛집에서 소고기 먹고 왔어요.\\n대전에서 가장 잘 되는 집답게\\n퀄리티가 아주 좋아 공유해 봐요.  제가 다녀온 워낭명가는 유성온천역 8번 출구에서\\n차로 1분 정도 걸리는 곳에 있더라고요.\\n외관은 단독 2층짜리 건물이라\\n엄청 커서 눈에 딱 띄어요.\\n간판 색상도 레드, 그린이라 더 그렇고요. 주차는 매장 앞 넓은 주차구역에\\n맘 편히 대놓고 들어오면 돼요.\\n안에는 홀 좌석뿐만 아니라 룸도 있어서\\n사람이 많아도 쾌적한 식사가 가능해요.\\n테이블도 널찍널찍하죠? 안내받은 자리에 앉아 책자 메뉴판을\\n보고 특수부위모듬을 주문했어요.\\n2층이 궁금해서 가서 구경 해 보니\\n테라스 석이 엄청 탁 트여있더라고요.\\n다음엔 여기 찜이에요. 우선 알록달록한 야채들이 다양하게\\n들어있는 샐러드부터 한입 했어요.\\n대전 맛집의 드레싱은 고소한 깨가 씹히는 맛이라\\n입맛 돋우기 용으로 딱이더라고요. 노오란 색감이 귀여웠던 계란찜은\\n위에 송송 썰린 파프리카가 올라가 있더라고요.\\n한입 떠서 먹으니 계란의 부드러움이\\n입속을 가득 채우며 부담 없이 속 채우기\\n시작할 수 있었어요. 윤기가 촉촉하게 잘 구워진 이 육전은\\n빨간 홍고추가 장식하고 있었어요.\\n금방 구워져 나온 건지 따끈따끈해서\\n이로 씹자마자 슥 뜯겨져 나왔고\\n질기지 않아 좋았어요. 자박자박하게 절여진 배김치와 명이나물은\\n고기 먹을 때 올라오는 느끼함을\\n싹 씻어내려줘요.\\n대전 맛집의 절임 반찬류는 깊은 감칠맛은\\n물론이고 아삭함까지 있어요. 핏기가 살짝씩 보이는 이 생고기는\\n당일 소를 잡는 곳에서만 제공이 가능한\\n신선도 최상의 메뉴였어요.\\n비린내 하나 없이 쫀득거리며\\n씹히는 맛이라 한 접시 순식간에\\n뚝딱해버렸지 뭐예요. 저희가 시킨 특수부위 모듬은\\n마블링이 아주 예술이었어요.\\n지방 부분이 많지도 적지도 않고\\n살코기와 황금비율이라 보자마자\\n얼른 구워 먹고 싶더라고요. 우선 야무지게 손질된 갈비살부터\\n잘 달궈진 불판 위에 턱 올리니 지글지글\\n소리를 내면서 굽히더라고요.\\n육즙이 올라오는 모습을 보니 엄청\\n먹음직스러웠어요. 노릇노릇하게 잘 익은 고기 한 점 들고 와서\\n소금에만 찍어 먹어도 풍미가 아주 좋아서\\n심심한 맛이 전혀 없었어요.\\n대전 맛집 고기는 쌉싸름한 명이나물에 싸서\\n먹으면 꿀맛이에요. 다음으로는 두툼한 등심을 구워 먹어봤어요.\\n두께가 대박이더라고요.\\n지방이 적어 굽는 순간부터 담백한 향미가\\n솔솔 올라왔어요.\\n숯불 향이 입혀지는 것도 보여요. 군더더기 없이 앞뒤로\\n잘 구워진 고기를 입에 쏙 넣으니\\n스트레스가 다 풀릴 정도예요.\\n고기는 군내 하나 없어서 더 마음에 들더라고요.\\n스테이크 먹는 듯한 느낌까지 들었어요. 군침 흐르는 비주얼로 완성된 등심은\\n웰던 혹은 미디움으로 구워서 즐겨봤어요.\\n대전 맛집의 한우는 1++ 등급이라 그런지\\n질이 아주 좋아 식감도 일품이에요. 다음으로는 결이 살아있는\\n업진살을 먹어봤어요.\\n짭조름한 간으로도,\\n매콤 새콤한 야채 절임으로도 즐겨봤어요.\\n쫄깃쫄깃하게 씹히는 재미가 좋아\\n손을 쉴 수 없었어요. 얇게 썰린 마늘 쌈장에 푹 찍어서\\n고기에 곁들여 먹으면 알싸함이\\n기름기를 완전히 잡아줘요.\\n찰기가 있다 해도 좋을 정도의 식감이었던\\n대전 맛집의 고기는 아직도 잊히지 않아요. 오동통한 대창에 특양은 사이드에 있길래\\n궁금해서 시켜봤어요.\\n통마늘도 통 크게 같이 구워줬습니다.\\n양념이 살짝 되어있어 안 타도록 정성스럽게\\n컨트롤하며 구워줬답니다. 몽글몽글 피어오른 구름 같은 대창의 속은\\n바삭하게 구워진 껍질과는 상반된 매력을\\n가지고 있었습니다.\\n씹을 때마다 즙이 쭉쭉 나와서 환상적이었고\\n양은 꼬득거려서 시키길 잘했다 싶었어요. 푸짐한 고명에 맑은 육수의 물냉면도\\n안 먹으면 서운하잖아요.\\n살얼음까지 동동 떠있어서 맛있었어요.\\n탱글 하게 잘 익은 면 호로록 먹어주고\\n고기에도 싸먹고 국물까지 시원하게\\n먹어줬습니다. 맵싹하지만 달큰해서 중독성이 엄청났던\\n대전 맛집의 색이 고운 비빔냉면이에요.\\n아삭한 오이에 구수하게 삶은 계란까지\\n면에 돌돌 말아 먹으니 눈 깜짝할 새에\\n한 그릇 뚝딱이에요. 네모 반듯한 망고가 아낌없이\\n토핑 되어있는 망고 빙수는 디저트로\\n주시더라고요.\\n얼음이 엄청 고와서 소스가 잘 스며들어\\n달달, 상큼함이 제대로였어요.\\n덕분에 입가심까지 완벽하게 했답니다. 저녁으로는 엑스포 근처에 위치한 전미원에서\\n식사를 하고 왔어요.\\n여름철 백일홍 꽃밭과 편안하고 전원적인\\n분위기에서 숯불 위에서 굽는 숙성 삼겹살로\\n부드러운 육질과 고소한 풍미가 일품이었죠. 다음날 눈을 떴을 때 냉면이 너무 당겨서\\n둔산동 검찰청 앞에 위치한\\n강남면옥을 찾았어요.\\n탱글하고 쫄깃한 면발에 시원한 살얼음이\\n동동 띄워진 깊고 개운한 국물로 든든하게\\n식사를 하기에 완벽했어요. 지인이 추천해 주었던 오씨칼국수에서\\n저녁식사를 했는데요.\\n해산물과 약재를 넣는 건강한 칼국수로\\n14가지 해산물로 28시간 이상 우려내서\\n만든 육수를 사용해서 잡냄새 없이\\n깊고 시원한 맛이 일품이에요. 마지막으로 소개해드릴 곳은 설해돈으로\\n수제돈가스 전문점이에요.\\n정부청사역 2번 출구에서 10분 거리에\\n위치해있으며 주문과 동시에 갓 튀겨서 나오기 때문에\\n겉바속촉의 진가를 느낄 수 있던 곳이랍니다.'},\n",
       " 4: {'title': '  이제야 알아간 대전 맛집 목록 ',\n",
       "  'nickname': '절대아연\\n(lovegpop)',\n",
       "  'datetime': '2021. 3. 22. 23:20',\n",
       "  'content': '  얼마 전 친구들과 친목도 다질겸 대전 맛집을 다녀왔어요. 내 취향 칼국수는 황태와 동죽이 개운한 맛을 풍겼고, 생면이라 더욱 쫀쫀해 모두가 감탄하며 즐기다 왔던 곳이에요     이번에 다녀온 삼백칼국수는 대동천에서 차로 5분 거리에 위치해있었어요 대로변 넓은 주차장에 단독건물에 우뚝 서있어 바로 찾아 갈 수 있었어요.\\n   대전 맛집 내부로 들어가니 넓고 쾌적한 홀이 시야에 들어왔어요. 10인도 앉을 수 있는 단체석과 커플석도 따로 마련되 있어 누구나 편한 식사가 가능했어요.\\n   모든 테이블에는 종이컵과 병따개도 별도로 마련되어 있어 쉽게 사용할 수 있었는데요. 요즘은 이런점이 위생적으로 느껴져 청결부분도 안심이 되었어요.\\n   매장 옆쪽에 유아를 위한 아기 의자도 마련되어 있어 가족 모임에도 들리기 좋은 외식장소였답니다.\\n    자리로 이동하는 길에는 셀프바도 마주할 수 있었어요. 양껏 담겨진 후한인심에 얼릉 맛보고 싶은 마음이 다급해지더라고요.\\n  안내해준 자리에 앉아 메뉴판을 슥 살펴봤어요. 매운맛은 단계별로 나눠지는데, 여러개 시켜도 가성비가 좋아 이것저것 주문넣었어요.\\n   주문하고 잠시 기다리니 대전 맛집의 상차림이 시작되었어요. 쌈싸먹을 수 있는 상추나,마늘,고추는 무르지않아 신선했고, 소스도 취향별로 등장해 우리의 이목이 집중되었답니다.\\n   가장 먼저 싱싱한 김치와 단무지부터 먹어봤어요. 묵은내 하나 없이 싱싱한 채즙이 주륵 나와 가볍게 식전용으로 즐기기 좋았어요.\\n   그 다음은 플레이팅이 끝내주는 칼국수 차례였는데요. 먹기좋게 한차례 끓여나와 겉에 맴도는 향기가 예사롭지 않았어요. 개운한 황태와 애호박이 썰려 있어 딱봐도 시원함에 구미가 확 당겨오더라고요.\\n   더욱이 당일 만든 생면이라 쫄깃한 탄성이 매우 만족스러웠어요. 밀가루 맛은 일절 나지않고, 개운한 육수가 한아름 스미어 담백한 풍미가 별미였어요.\\n   또, 동죽은 해감이 잘되 칼국수 감초역할로 정답이었어요. 입이 쩍쩍 벌어진 동죽의 알맹이에 이 집 퀄리티가 느껴져 감동적이었어요.\\n   그 오른쪽 해물파전은 입맛을 더욱 살리는 역할로 합격이었어요. 도톰한 튀김가루에 오징어,부추가 들어가 씹을 수록 고소한 맛이 진동해 자꾸만 손이 가더라고요.\\n   별미로 즐겼던 순간은 같이 나온 양념장에 찍어 맛볼 때였는데요. 향긋한 간장내음과 바삭하게 튀겨진 오징어는 어즙이 온전히 살아있어 딱 제 입맛에도 잘 맞았어요.\\n    그러다 추가로 주문한 물총탕도 맛볼 수 있는데, 얼핏봐도 얼큰하게 청양고추가 들어가 침이 줄줄 고이는 느낌에 대전 맛집의 별미였어요. 다음으로는 초장에 찍어 먹었는데, 선도가 어찌나 좋던지 살짝 담궜음에도 어즙이 보일 정도였어요.\\n    드디어 대전 맛집 주인공 보쌈을 먹어볼 차례였어요.\\n수육뿐 아니라, 무생채까지 넘칠듯 담아주셔서 푸짐한 인심에 감동까지 느껴졌어요.\\n   우선 상추에다 무생채를 올리고 입속으로 직행했어요. 육즙이 팡 터지는데 이와 별도로 채수도 흘러나와 달큰짭쪼롬한 풍미를 동시다발적으로 즐길 수 있어 깜짝 놀랐어요.\\n   대전 맛집 수육은 암퇘지라 연한 육질이 인상적인데요. 무생채랑 한입 먹어도 맵칼하면서 고소한 맛이 보장돼 이날 꼽은 최애콜라보를 자랑했어요.\\n   라스트는 만두로 주문해 대미를 장식했어요. 찜기에 손수 등장해 따뜻한 온기가 지속되는데, 고기와 김치를 잘게 넣은게 육안으로 선명히 보여 진한 풍미도 예상할 수 있었어요.\\n     이 건 어떻게 먹어도 천하일미였어요. 육즙이 가득한 고기만두는 담백함이 좋고, 김치만두는 시콤하면서 속이 부대끼지 않아 하나도 남김없이 클리어했답니다.  집에 갈때 그냥 가기 아쉬운 마음에 간단히 포장도 해보았어요. 식당에서 먹는 것처럼 레시피 그대로 집에서 식사를 누릴 수 있다는게 큰 메리트로 느껴졌어요.\\n        골목길에서 디저트할 가게를 찾다가 70~80년대 건물의 오래된 숯골원냉면집을 방문했어요 1954년도에 세워져 부모님 세대서부터 대를 이어온 역사의 공간이더라고요. 세월이 묻어난 만큼 창호지문으로 된 룸에서 귀한 손님과 오순도순 대화를 하며 시원한 얼음냉면 한그릇 뚝딱 할 수 있어 특별한 분위기를 자아냈답니다.\\n   둔산로31번길을 따라 이태리국시로 갔는데요 한스빌딩 바로 옆 건물이라 찾기가 쉽더라구요. 히말라야 핑크소금이 들어간 돌솥 채끝살은 속이 거북하지않은 느끼함에 살살 녹아 들어갔어요. 또, 계절메뉴 수박&바질샐러드도 곧 시판될 예정이라던데 어떤 맛일지 궁금해지는 마음에 호시탐탐 노려볼려구요\\n    옛 판자집처럼 허름해보이는 이색건물에 이끌려 들어간 곳은 슈니첼이라는 곳이에요. 외관은 기와집으로된 코리안 푸드 느낌이지만, 레트로 분위기에다가 실제 맛은 기다림도 지루하지않을만큼 심심하지않았어요. 왜냐구요? 소품들 구경거리도 솔솔했거든요. 대체적으로 1만원대를 뛰어넘지않아 한끼 식사가격으로 충분했답니다.\\n     콧바람쐬기에도 좋고, 사거리에 자리해있어 당골들이 많다는 세호불백은 저녁즈음에 갔어요. 2인분에찌개 하나 주문했더니 달랑 2만원대라 부담스럽지 않았어요. 특히 불백은 누린내가 나지않아 담백함이 좋았고, 묵은지를 숙성시켜 나온 김치찌개는 개운한 국물로 목매일 없이 든든히 배를 채웠어요.\\n  *이 포스팅은 소정의 원고료를 제공받아 솔직하게 작성되었습니다. \\n#대전맛집 #삼백칼국수보쌈 #대전해물칼구수\\n#대잔해물파전\\n '}}"
      ]
     },
     "execution_count": 38,
     "metadata": {},
     "output_type": "execute_result"
    }
   ],
   "source": [
    "dict"
   ]
  },
  {
   "cell_type": "code",
   "execution_count": 39,
   "metadata": {
    "scrolled": true
   },
   "outputs": [
    {
     "data": {
      "text/html": [
       "<div>\n",
       "<style scoped>\n",
       "    .dataframe tbody tr th:only-of-type {\n",
       "        vertical-align: middle;\n",
       "    }\n",
       "\n",
       "    .dataframe tbody tr th {\n",
       "        vertical-align: top;\n",
       "    }\n",
       "\n",
       "    .dataframe thead th {\n",
       "        text-align: right;\n",
       "    }\n",
       "</style>\n",
       "<table border=\"1\" class=\"dataframe\">\n",
       "  <thead>\n",
       "    <tr style=\"text-align: right;\">\n",
       "      <th></th>\n",
       "      <th>title</th>\n",
       "      <th>nickname</th>\n",
       "      <th>datetime</th>\n",
       "      <th>content</th>\n",
       "    </tr>\n",
       "  </thead>\n",
       "  <tbody>\n",
       "    <tr>\n",
       "      <th>0</th>\n",
       "      <td>구수했던 대전 맛집 모음</td>\n",
       "      <td>에이미네\\n(jinmylove)</td>\n",
       "      <td>2021. 4. 21. 10:10</td>\n",
       "      <td>지난 주말 가족들과 장동산림욕장으로 힐링을 하러 갔다가 미리 찾아둔 대전 맛집에 다...</td>\n",
       "    </tr>\n",
       "    <tr>\n",
       "      <th>1</th>\n",
       "      <td>강렬했던 # 대전 맛집 모음</td>\n",
       "      <td>날구</td>\n",
       "      <td>2021. 4. 16. 6:00</td>\n",
       "      <td>강렬했던\\n 대전 맛집 모음 얼마 전에는 친구들과 대전에 방문했다가 인기있는 대전 ...</td>\n",
       "    </tr>\n",
       "    <tr>\n",
       "      <th>2</th>\n",
       "      <td>꼭 가봐야할 대전 맛집 리스트</td>\n",
       "      <td>수야\\n(sooya1127)</td>\n",
       "      <td>2021. 4. 16. 0:10</td>\n",
       "      <td>지난주 가족들과 외식을 하러 미리 알아봐둔 대전 맛집을 다녀왔어요 \\n이미 근방에서...</td>\n",
       "    </tr>\n",
       "    <tr>\n",
       "      <th>3</th>\n",
       "      <td>또 가고픈 @ 대전 맛집 소개</td>\n",
       "      <td>상블리</td>\n",
       "      <td>2021. 5. 5. 21:11</td>\n",
       "      <td>안녕하세요 상블리입니다.\\n얼마 전 친구들과 식사 모임이 있어\\n이왕 먹는거 거하게...</td>\n",
       "    </tr>\n",
       "    <tr>\n",
       "      <th>4</th>\n",
       "      <td>이제야 알아간 대전 맛집 목록</td>\n",
       "      <td>절대아연\\n(lovegpop)</td>\n",
       "      <td>2021. 3. 22. 23:20</td>\n",
       "      <td>얼마 전 친구들과 친목도 다질겸 대전 맛집을 다녀왔어요. 내 취향 칼국수는 황태...</td>\n",
       "    </tr>\n",
       "  </tbody>\n",
       "</table>\n",
       "</div>"
      ],
      "text/plain": [
       "                 title           nickname            datetime  \\\n",
       "0        구수했던 대전 맛집 모음  에이미네\\n(jinmylove)  2021. 4. 21. 10:10   \n",
       "1      강렬했던 # 대전 맛집 모음                 날구   2021. 4. 16. 6:00   \n",
       "2     꼭 가봐야할 대전 맛집 리스트    수야\\n(sooya1127)   2021. 4. 16. 0:10   \n",
       "3     또 가고픈 @ 대전 맛집 소개                상블리   2021. 5. 5. 21:11   \n",
       "4    이제야 알아간 대전 맛집 목록    절대아연\\n(lovegpop)  2021. 3. 22. 23:20   \n",
       "\n",
       "                                             content  \n",
       "0  지난 주말 가족들과 장동산림욕장으로 힐링을 하러 갔다가 미리 찾아둔 대전 맛집에 다...  \n",
       "1  강렬했던\\n 대전 맛집 모음 얼마 전에는 친구들과 대전에 방문했다가 인기있는 대전 ...  \n",
       "2  지난주 가족들과 외식을 하러 미리 알아봐둔 대전 맛집을 다녀왔어요 \\n이미 근방에서...  \n",
       "3  안녕하세요 상블리입니다.\\n얼마 전 친구들과 식사 모임이 있어\\n이왕 먹는거 거하게...  \n",
       "4    얼마 전 친구들과 친목도 다질겸 대전 맛집을 다녀왔어요. 내 취향 칼국수는 황태...  "
      ]
     },
     "execution_count": 39,
     "metadata": {},
     "output_type": "execute_result"
    }
   ],
   "source": [
    "# 판다스로 만들기\n",
    "import pandas as pd\n",
    "result_df = pd.DataFrame.from_dict(dict, 'index')\n",
    "result_df"
   ]
  },
  {
   "cell_type": "code",
   "execution_count": 40,
   "metadata": {
    "scrolled": true
   },
   "outputs": [],
   "source": [
    "# 엑셀로 저장하기\n",
    "result_df.to_excel(\"blog_content.xlsx\", encoding='utf-8-sig')"
   ]
  },
  {
   "cell_type": "code",
   "execution_count": 41,
   "metadata": {},
   "outputs": [
    {
     "data": {
      "text/plain": [
       "'C:\\\\Users\\\\11\\\\Desktop\\\\수업자료\\\\모듈 2-3. 크롤러'"
      ]
     },
     "execution_count": 41,
     "metadata": {},
     "output_type": "execute_result"
    }
   ],
   "source": [
    "pwd"
   ]
  },
  {
   "cell_type": "code",
   "execution_count": null,
   "metadata": {},
   "outputs": [],
   "source": []
  }
 ],
 "metadata": {
  "kernelspec": {
   "display_name": "Python 3",
   "language": "python",
   "name": "python3"
  },
  "language_info": {
   "codemirror_mode": {
    "name": "ipython",
    "version": 3
   },
   "file_extension": ".py",
   "mimetype": "text/x-python",
   "name": "python",
   "nbconvert_exporter": "python",
   "pygments_lexer": "ipython3",
   "version": "3.8.5"
  },
  "toc": {
   "base_numbering": 1,
   "nav_menu": {},
   "number_sections": false,
   "sideBar": true,
   "skip_h1_title": false,
   "title_cell": "Table of Contents",
   "title_sidebar": "Contents",
   "toc_cell": false,
   "toc_position": {},
   "toc_section_display": true,
   "toc_window_display": false
  },
  "varInspector": {
   "cols": {
    "lenName": 16,
    "lenType": 16,
    "lenVar": 40
   },
   "kernels_config": {
    "python": {
     "delete_cmd_postfix": "",
     "delete_cmd_prefix": "del ",
     "library": "var_list.py",
     "varRefreshCmd": "print(var_dic_list())"
    },
    "r": {
     "delete_cmd_postfix": ") ",
     "delete_cmd_prefix": "rm(",
     "library": "var_list.r",
     "varRefreshCmd": "cat(var_dic_list()) "
    }
   },
   "position": {
    "height": "600px",
    "left": "554.76px",
    "right": "20px",
    "top": "88px",
    "width": "424px"
   },
   "types_to_exclude": [
    "module",
    "function",
    "builtin_function_or_method",
    "instance",
    "_Feature"
   ],
   "window_display": false
  }
 },
 "nbformat": 4,
 "nbformat_minor": 2
}
